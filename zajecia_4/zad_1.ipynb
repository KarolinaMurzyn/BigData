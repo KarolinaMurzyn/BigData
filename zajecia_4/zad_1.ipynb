{
 "cells": [
  {
   "cell_type": "code",
   "execution_count": 0,
   "metadata": {
    "application/vnd.databricks.v1+cell": {
     "cellMetadata": {
      "byteLimit": 2048000,
      "rowLimit": 10000
     },
     "inputWidgets": {},
     "nuid": "adc153a9-c5fa-406a-8937-5aba3d70874a",
     "showTitle": false,
     "tableResultSettingsMap": {},
     "title": ""
    }
   },
   "outputs": [],
   "source": [
    "\n",
    "\n",
    "from pyspark.sql.functions import (\n",
    "    col, explode, regexp_replace, regexp_extract,\n",
    "    coalesce, lit, stddev, when, array_contains, array, expr, avg, max, countDistinct, split, pandas_udf, udf\n",
    ")\n",
    "\n",
    "from pyspark.sql.types import(DoubleType, StringType)\n",
    "import pandas as pd\n",
    "\n"
   ]
  },
  {
   "cell_type": "code",
   "execution_count": 0,
   "metadata": {
    "application/vnd.databricks.v1+cell": {
     "cellMetadata": {
      "byteLimit": 2048000,
      "rowLimit": 10000
     },
     "inputWidgets": {},
     "nuid": "738130cd-d8cf-4db9-97f4-3c66326b7f61",
     "showTitle": false,
     "tableResultSettingsMap": {},
     "title": ""
    }
   },
   "outputs": [
    {
     "output_type": "display_data",
     "data": {
      "text/html": [
       "<style scoped>\n",
       "  .table-result-container {\n",
       "    max-height: 300px;\n",
       "    overflow: auto;\n",
       "  }\n",
       "  table, th, td {\n",
       "    border: 1px solid black;\n",
       "    border-collapse: collapse;\n",
       "  }\n",
       "  th, td {\n",
       "    padding: 5px;\n",
       "  }\n",
       "  th {\n",
       "    text-align: left;\n",
       "  }\n",
       "</style><div class='table-result-container'><table class='table-result'><thead style='background-color: white'><tr><th>station_id</th><th>name</th><th>lat</th><th>long</th><th>dockcount</th><th>landmark</th><th>installation</th></tr></thead><tbody><tr><td>2</td><td>San Jose Diridon Caltrain Station</td><td>37.329732</td><td>-121.901782</td><td>27</td><td>San Jose</td><td>8/6/2013</td></tr><tr><td>3</td><td>San Jose Civic Center</td><td>37.330698</td><td>-121.888979</td><td>15</td><td>San Jose</td><td>8/5/2013</td></tr><tr><td>4</td><td>Santa Clara at Almaden</td><td>37.333988</td><td>-121.894902</td><td>11</td><td>San Jose</td><td>8/6/2013</td></tr><tr><td>5</td><td>Adobe on Almaden</td><td>37.331415</td><td>-121.8932</td><td>19</td><td>San Jose</td><td>8/5/2013</td></tr><tr><td>6</td><td>San Pedro Square</td><td>37.336721</td><td>-121.894074</td><td>15</td><td>San Jose</td><td>8/7/2013</td></tr><tr><td>7</td><td>Paseo de San Antonio</td><td>37.333798</td><td>-121.886943</td><td>15</td><td>San Jose</td><td>8/7/2013</td></tr><tr><td>8</td><td>San Salvador at 1st</td><td>37.330165</td><td>-121.885831</td><td>15</td><td>San Jose</td><td>8/5/2013</td></tr><tr><td>9</td><td>Japantown</td><td>37.348742</td><td>-121.894715</td><td>15</td><td>San Jose</td><td>8/5/2013</td></tr><tr><td>10</td><td>San Jose City Hall</td><td>37.337391</td><td>-121.886995</td><td>15</td><td>San Jose</td><td>8/6/2013</td></tr><tr><td>11</td><td>MLK Library</td><td>37.335885</td><td>-121.88566</td><td>19</td><td>San Jose</td><td>8/6/2013</td></tr><tr><td>12</td><td>SJSU 4th at San Carlos</td><td>37.332808</td><td>-121.883891</td><td>19</td><td>San Jose</td><td>8/7/2013</td></tr><tr><td>13</td><td>St James Park</td><td>37.339301</td><td>-121.889937</td><td>15</td><td>San Jose</td><td>8/6/2013</td></tr><tr><td>14</td><td>Arena Green / SAP Center</td><td>37.332692</td><td>-121.900084</td><td>19</td><td>San Jose</td><td>8/5/2013</td></tr><tr><td>16</td><td>SJSU - San Salvador at 9th</td><td>37.333955</td><td>-121.877349</td><td>15</td><td>San Jose</td><td>8/7/2013</td></tr><tr><td>21</td><td>Franklin at Maple</td><td>37.481758</td><td>-122.226904</td><td>15</td><td>Redwood City</td><td>8/12/2013</td></tr><tr><td>22</td><td>Redwood City Caltrain Station</td><td>37.486078</td><td>-122.232089</td><td>25</td><td>Redwood City</td><td>8/15/2013</td></tr><tr><td>23</td><td>San Mateo County Center</td><td>37.487616</td><td>-122.229951</td><td>15</td><td>Redwood City</td><td>8/15/2013</td></tr><tr><td>24</td><td>Redwood City Public Library</td><td>37.484219</td><td>-122.227424</td><td>15</td><td>Redwood City</td><td>8/12/2013</td></tr><tr><td>25</td><td>Stanford in Redwood City</td><td>37.48537</td><td>-122.203288</td><td>15</td><td>Redwood City</td><td>8/12/2013</td></tr><tr><td>26</td><td>Redwood City Medical Center</td><td>37.487682</td><td>-122.223492</td><td>15</td><td>Redwood City</td><td>8/12/2013</td></tr></tbody></table></div>"
      ]
     },
     "metadata": {
      "application/vnd.databricks.v1+output": {
       "addedWidgets": {},
       "aggData": [],
       "aggError": "",
       "aggOverflow": false,
       "aggSchema": [],
       "aggSeriesLimitReached": false,
       "aggType": "",
       "arguments": {},
       "columnCustomDisplayInfos": {},
       "data": [
        [
         "2",
         "San Jose Diridon Caltrain Station",
         "37.329732",
         "-121.901782",
         "27",
         "San Jose",
         "8/6/2013"
        ],
        [
         "3",
         "San Jose Civic Center",
         "37.330698",
         "-121.888979",
         "15",
         "San Jose",
         "8/5/2013"
        ],
        [
         "4",
         "Santa Clara at Almaden",
         "37.333988",
         "-121.894902",
         "11",
         "San Jose",
         "8/6/2013"
        ],
        [
         "5",
         "Adobe on Almaden",
         "37.331415",
         "-121.8932",
         "19",
         "San Jose",
         "8/5/2013"
        ],
        [
         "6",
         "San Pedro Square",
         "37.336721",
         "-121.894074",
         "15",
         "San Jose",
         "8/7/2013"
        ],
        [
         "7",
         "Paseo de San Antonio",
         "37.333798",
         "-121.886943",
         "15",
         "San Jose",
         "8/7/2013"
        ],
        [
         "8",
         "San Salvador at 1st",
         "37.330165",
         "-121.885831",
         "15",
         "San Jose",
         "8/5/2013"
        ],
        [
         "9",
         "Japantown",
         "37.348742",
         "-121.894715",
         "15",
         "San Jose",
         "8/5/2013"
        ],
        [
         "10",
         "San Jose City Hall",
         "37.337391",
         "-121.886995",
         "15",
         "San Jose",
         "8/6/2013"
        ],
        [
         "11",
         "MLK Library",
         "37.335885",
         "-121.88566",
         "19",
         "San Jose",
         "8/6/2013"
        ],
        [
         "12",
         "SJSU 4th at San Carlos",
         "37.332808",
         "-121.883891",
         "19",
         "San Jose",
         "8/7/2013"
        ],
        [
         "13",
         "St James Park",
         "37.339301",
         "-121.889937",
         "15",
         "San Jose",
         "8/6/2013"
        ],
        [
         "14",
         "Arena Green / SAP Center",
         "37.332692",
         "-121.900084",
         "19",
         "San Jose",
         "8/5/2013"
        ],
        [
         "16",
         "SJSU - San Salvador at 9th",
         "37.333955",
         "-121.877349",
         "15",
         "San Jose",
         "8/7/2013"
        ],
        [
         "21",
         "Franklin at Maple",
         "37.481758",
         "-122.226904",
         "15",
         "Redwood City",
         "8/12/2013"
        ],
        [
         "22",
         "Redwood City Caltrain Station",
         "37.486078",
         "-122.232089",
         "25",
         "Redwood City",
         "8/15/2013"
        ],
        [
         "23",
         "San Mateo County Center",
         "37.487616",
         "-122.229951",
         "15",
         "Redwood City",
         "8/15/2013"
        ],
        [
         "24",
         "Redwood City Public Library",
         "37.484219",
         "-122.227424",
         "15",
         "Redwood City",
         "8/12/2013"
        ],
        [
         "25",
         "Stanford in Redwood City",
         "37.48537",
         "-122.203288",
         "15",
         "Redwood City",
         "8/12/2013"
        ],
        [
         "26",
         "Redwood City Medical Center",
         "37.487682",
         "-122.223492",
         "15",
         "Redwood City",
         "8/12/2013"
        ]
       ],
       "datasetInfos": [],
       "dbfsResultPath": null,
       "isJsonSchema": true,
       "metadata": {},
       "overflow": false,
       "plotOptions": {
        "customPlotOptions": {},
        "displayType": "table",
        "pivotAggregation": null,
        "pivotColumns": null,
        "xColumns": null,
        "yColumns": null
       },
       "removedWidgets": [],
       "schema": [
        {
         "metadata": "{}",
         "name": "station_id",
         "type": "\"string\""
        },
        {
         "metadata": "{}",
         "name": "name",
         "type": "\"string\""
        },
        {
         "metadata": "{}",
         "name": "lat",
         "type": "\"string\""
        },
        {
         "metadata": "{}",
         "name": "long",
         "type": "\"string\""
        },
        {
         "metadata": "{}",
         "name": "dockcount",
         "type": "\"string\""
        },
        {
         "metadata": "{}",
         "name": "landmark",
         "type": "\"string\""
        },
        {
         "metadata": "{}",
         "name": "installation",
         "type": "\"string\""
        }
       ],
       "type": "table"
      }
     },
     "output_type": "display_data"
    },
    {
     "output_type": "stream",
     "name": "stdout",
     "output_type": "stream",
     "text": [
      "root\n |-- station_id: string (nullable = true)\n |-- name: string (nullable = true)\n |-- lat: string (nullable = true)\n |-- long: string (nullable = true)\n |-- dockcount: string (nullable = true)\n |-- landmark: string (nullable = true)\n |-- installation: string (nullable = true)\n\n"
     ]
    }
   ],
   "source": [
    "\n",
    "df = spark.table(\"station_data_csv\")\n",
    "display(df.limit(20))\n",
    "df.printSchema()\n",
    "\n",
    "     "
   ]
  },
  {
   "cell_type": "code",
   "execution_count": 0,
   "metadata": {
    "application/vnd.databricks.v1+cell": {
     "cellMetadata": {
      "byteLimit": 2048000,
      "rowLimit": 10000
     },
     "inputWidgets": {},
     "nuid": "a66547f4-26d7-4850-9342-92ca5fabb4e2",
     "showTitle": false,
     "tableResultSettingsMap": {},
     "title": ""
    }
   },
   "outputs": [],
   "source": [
    "df = df.fillna({\"name\": \"Unknown Station\"})\n",
    "df = df.dropna(subset=[\"lat\", \"long\"])\n",
    "\n"
   ]
  },
  {
   "cell_type": "code",
   "execution_count": 0,
   "metadata": {
    "application/vnd.databricks.v1+cell": {
     "cellMetadata": {
      "byteLimit": 2048000,
      "rowLimit": 10000
     },
     "inputWidgets": {},
     "nuid": "585d481c-90aa-40de-b8e5-83020c51ef47",
     "showTitle": false,
     "tableResultSettingsMap": {},
     "title": ""
    }
   },
   "outputs": [
    {
     "output_type": "display_data",
     "data": {
      "text/html": [
       "<style scoped>\n",
       "  .table-result-container {\n",
       "    max-height: 300px;\n",
       "    overflow: auto;\n",
       "  }\n",
       "  table, th, td {\n",
       "    border: 1px solid black;\n",
       "    border-collapse: collapse;\n",
       "  }\n",
       "  th, td {\n",
       "    padding: 5px;\n",
       "  }\n",
       "  th {\n",
       "    text-align: left;\n",
       "  }\n",
       "</style><div class='table-result-container'><table class='table-result'><thead style='background-color: white'><tr><th>station_id</th><th>name</th><th>lat</th><th>long</th><th>dockcount</th><th>landmark</th><th>installation</th><th>clean_name</th><th>second_word</th></tr></thead><tbody><tr><td>2</td><td>San Jose Diridon Caltrain Station</td><td>37.329732</td><td>-121.901782</td><td>27</td><td>San Jose</td><td>8/6/2013</td><td>San Jose Diridon Caltrain Station</td><td>Jose</td></tr><tr><td>3</td><td>San Jose Civic Center</td><td>37.330698</td><td>-121.888979</td><td>15</td><td>San Jose</td><td>8/5/2013</td><td>San Jose Civic Center</td><td>Jose</td></tr><tr><td>4</td><td>Santa Clara at Almaden</td><td>37.333988</td><td>-121.894902</td><td>11</td><td>San Jose</td><td>8/6/2013</td><td>Santa Clara at Almaden</td><td>Clara</td></tr><tr><td>5</td><td>Adobe on Almaden</td><td>37.331415</td><td>-121.8932</td><td>19</td><td>San Jose</td><td>8/5/2013</td><td>Adobe on Almaden</td><td>on</td></tr><tr><td>6</td><td>San Pedro Square</td><td>37.336721</td><td>-121.894074</td><td>15</td><td>San Jose</td><td>8/7/2013</td><td>San Pedro Square</td><td>Pedro</td></tr><tr><td>7</td><td>Paseo de San Antonio</td><td>37.333798</td><td>-121.886943</td><td>15</td><td>San Jose</td><td>8/7/2013</td><td>Paseo de San Antonio</td><td>de</td></tr><tr><td>8</td><td>San Salvador at 1st</td><td>37.330165</td><td>-121.885831</td><td>15</td><td>San Jose</td><td>8/5/2013</td><td>San Salvador at 1st</td><td>Salvador</td></tr><tr><td>9</td><td>Japantown</td><td>37.348742</td><td>-121.894715</td><td>15</td><td>San Jose</td><td>8/5/2013</td><td>Japantown</td><td></td></tr><tr><td>10</td><td>San Jose City Hall</td><td>37.337391</td><td>-121.886995</td><td>15</td><td>San Jose</td><td>8/6/2013</td><td>San Jose City Hall</td><td>Jose</td></tr><tr><td>11</td><td>MLK Library</td><td>37.335885</td><td>-121.88566</td><td>19</td><td>San Jose</td><td>8/6/2013</td><td>MLK Library</td><td>Library</td></tr><tr><td>12</td><td>SJSU 4th at San Carlos</td><td>37.332808</td><td>-121.883891</td><td>19</td><td>San Jose</td><td>8/7/2013</td><td>SJSU 4th at San Carlos</td><td>4th</td></tr><tr><td>13</td><td>St James Park</td><td>37.339301</td><td>-121.889937</td><td>15</td><td>San Jose</td><td>8/6/2013</td><td>St James Park</td><td>James</td></tr><tr><td>14</td><td>Arena Green / SAP Center</td><td>37.332692</td><td>-121.900084</td><td>19</td><td>San Jose</td><td>8/5/2013</td><td>Arena Green  SAP Center</td><td>Green</td></tr><tr><td>16</td><td>SJSU - San Salvador at 9th</td><td>37.333955</td><td>-121.877349</td><td>15</td><td>San Jose</td><td>8/7/2013</td><td>SJSU  San Salvador at 9th</td><td></td></tr><tr><td>21</td><td>Franklin at Maple</td><td>37.481758</td><td>-122.226904</td><td>15</td><td>Redwood City</td><td>8/12/2013</td><td>Franklin at Maple</td><td>at</td></tr><tr><td>22</td><td>Redwood City Caltrain Station</td><td>37.486078</td><td>-122.232089</td><td>25</td><td>Redwood City</td><td>8/15/2013</td><td>Redwood City Caltrain Station</td><td>City</td></tr><tr><td>23</td><td>San Mateo County Center</td><td>37.487616</td><td>-122.229951</td><td>15</td><td>Redwood City</td><td>8/15/2013</td><td>San Mateo County Center</td><td>Mateo</td></tr><tr><td>24</td><td>Redwood City Public Library</td><td>37.484219</td><td>-122.227424</td><td>15</td><td>Redwood City</td><td>8/12/2013</td><td>Redwood City Public Library</td><td>City</td></tr><tr><td>25</td><td>Stanford in Redwood City</td><td>37.48537</td><td>-122.203288</td><td>15</td><td>Redwood City</td><td>8/12/2013</td><td>Stanford in Redwood City</td><td>in</td></tr><tr><td>26</td><td>Redwood City Medical Center</td><td>37.487682</td><td>-122.223492</td><td>15</td><td>Redwood City</td><td>8/12/2013</td><td>Redwood City Medical Center</td><td>City</td></tr></tbody></table></div>"
      ]
     },
     "metadata": {
      "application/vnd.databricks.v1+output": {
       "addedWidgets": {},
       "aggData": [],
       "aggError": "",
       "aggOverflow": false,
       "aggSchema": [],
       "aggSeriesLimitReached": false,
       "aggType": "",
       "arguments": {},
       "columnCustomDisplayInfos": {},
       "data": [
        [
         "2",
         "San Jose Diridon Caltrain Station",
         "37.329732",
         "-121.901782",
         "27",
         "San Jose",
         "8/6/2013",
         "San Jose Diridon Caltrain Station",
         "Jose"
        ],
        [
         "3",
         "San Jose Civic Center",
         "37.330698",
         "-121.888979",
         "15",
         "San Jose",
         "8/5/2013",
         "San Jose Civic Center",
         "Jose"
        ],
        [
         "4",
         "Santa Clara at Almaden",
         "37.333988",
         "-121.894902",
         "11",
         "San Jose",
         "8/6/2013",
         "Santa Clara at Almaden",
         "Clara"
        ],
        [
         "5",
         "Adobe on Almaden",
         "37.331415",
         "-121.8932",
         "19",
         "San Jose",
         "8/5/2013",
         "Adobe on Almaden",
         "on"
        ],
        [
         "6",
         "San Pedro Square",
         "37.336721",
         "-121.894074",
         "15",
         "San Jose",
         "8/7/2013",
         "San Pedro Square",
         "Pedro"
        ],
        [
         "7",
         "Paseo de San Antonio",
         "37.333798",
         "-121.886943",
         "15",
         "San Jose",
         "8/7/2013",
         "Paseo de San Antonio",
         "de"
        ],
        [
         "8",
         "San Salvador at 1st",
         "37.330165",
         "-121.885831",
         "15",
         "San Jose",
         "8/5/2013",
         "San Salvador at 1st",
         "Salvador"
        ],
        [
         "9",
         "Japantown",
         "37.348742",
         "-121.894715",
         "15",
         "San Jose",
         "8/5/2013",
         "Japantown",
         ""
        ],
        [
         "10",
         "San Jose City Hall",
         "37.337391",
         "-121.886995",
         "15",
         "San Jose",
         "8/6/2013",
         "San Jose City Hall",
         "Jose"
        ],
        [
         "11",
         "MLK Library",
         "37.335885",
         "-121.88566",
         "19",
         "San Jose",
         "8/6/2013",
         "MLK Library",
         "Library"
        ],
        [
         "12",
         "SJSU 4th at San Carlos",
         "37.332808",
         "-121.883891",
         "19",
         "San Jose",
         "8/7/2013",
         "SJSU 4th at San Carlos",
         "4th"
        ],
        [
         "13",
         "St James Park",
         "37.339301",
         "-121.889937",
         "15",
         "San Jose",
         "8/6/2013",
         "St James Park",
         "James"
        ],
        [
         "14",
         "Arena Green / SAP Center",
         "37.332692",
         "-121.900084",
         "19",
         "San Jose",
         "8/5/2013",
         "Arena Green  SAP Center",
         "Green"
        ],
        [
         "16",
         "SJSU - San Salvador at 9th",
         "37.333955",
         "-121.877349",
         "15",
         "San Jose",
         "8/7/2013",
         "SJSU  San Salvador at 9th",
         ""
        ],
        [
         "21",
         "Franklin at Maple",
         "37.481758",
         "-122.226904",
         "15",
         "Redwood City",
         "8/12/2013",
         "Franklin at Maple",
         "at"
        ],
        [
         "22",
         "Redwood City Caltrain Station",
         "37.486078",
         "-122.232089",
         "25",
         "Redwood City",
         "8/15/2013",
         "Redwood City Caltrain Station",
         "City"
        ],
        [
         "23",
         "San Mateo County Center",
         "37.487616",
         "-122.229951",
         "15",
         "Redwood City",
         "8/15/2013",
         "San Mateo County Center",
         "Mateo"
        ],
        [
         "24",
         "Redwood City Public Library",
         "37.484219",
         "-122.227424",
         "15",
         "Redwood City",
         "8/12/2013",
         "Redwood City Public Library",
         "City"
        ],
        [
         "25",
         "Stanford in Redwood City",
         "37.48537",
         "-122.203288",
         "15",
         "Redwood City",
         "8/12/2013",
         "Stanford in Redwood City",
         "in"
        ],
        [
         "26",
         "Redwood City Medical Center",
         "37.487682",
         "-122.223492",
         "15",
         "Redwood City",
         "8/12/2013",
         "Redwood City Medical Center",
         "City"
        ]
       ],
       "datasetInfos": [],
       "dbfsResultPath": null,
       "isJsonSchema": true,
       "metadata": {},
       "overflow": false,
       "plotOptions": {
        "customPlotOptions": {},
        "displayType": "table",
        "pivotAggregation": null,
        "pivotColumns": null,
        "xColumns": null,
        "yColumns": null
       },
       "removedWidgets": [],
       "schema": [
        {
         "metadata": "{}",
         "name": "station_id",
         "type": "\"string\""
        },
        {
         "metadata": "{}",
         "name": "name",
         "type": "\"string\""
        },
        {
         "metadata": "{}",
         "name": "lat",
         "type": "\"string\""
        },
        {
         "metadata": "{}",
         "name": "long",
         "type": "\"string\""
        },
        {
         "metadata": "{}",
         "name": "dockcount",
         "type": "\"string\""
        },
        {
         "metadata": "{}",
         "name": "landmark",
         "type": "\"string\""
        },
        {
         "metadata": "{}",
         "name": "installation",
         "type": "\"string\""
        },
        {
         "metadata": "{}",
         "name": "clean_name",
         "type": "\"string\""
        },
        {
         "metadata": "{}",
         "name": "second_word",
         "type": "\"string\""
        }
       ],
       "type": "table"
      }
     },
     "output_type": "display_data"
    },
    {
     "output_type": "stream",
     "name": "stdout",
     "output_type": "stream",
     "text": [
      "root\n |-- station_id: string (nullable = true)\n |-- name: string (nullable = false)\n |-- lat: string (nullable = true)\n |-- long: string (nullable = true)\n |-- dockcount: string (nullable = true)\n |-- landmark: string (nullable = true)\n |-- installation: string (nullable = true)\n |-- clean_name: string (nullable = false)\n |-- second_word: string (nullable = false)\n\n"
     ]
    }
   ],
   "source": [
    "from pyspark.sql.functions import regexp_replace, regexp_extract\n",
    "\n",
    "df = df.withColumn(\"clean_name\", regexp_replace(\"name\", \"[^a-zA-Z0-9 ]\", \"\")) \\\n",
    "       .withColumn(\"second_word\", regexp_extract(\"name\", r\"^\\w+\\s+(\\w+)\", 1))\n",
    "display(df.limit(20))\n",
    "df.printSchema()"
   ]
  },
  {
   "cell_type": "code",
   "execution_count": 0,
   "metadata": {
    "application/vnd.databricks.v1+cell": {
     "cellMetadata": {
      "byteLimit": 2048000,
      "rowLimit": 10000
     },
     "inputWidgets": {},
     "nuid": "ed1c8849-d40d-4f09-84d2-1c40295c7631",
     "showTitle": false,
     "tableResultSettingsMap": {},
     "title": ""
    }
   },
   "outputs": [
    {
     "output_type": "display_data",
     "data": {
      "text/html": [
       "<style scoped>\n",
       "  .table-result-container {\n",
       "    max-height: 300px;\n",
       "    overflow: auto;\n",
       "  }\n",
       "  table, th, td {\n",
       "    border: 1px solid black;\n",
       "    border-collapse: collapse;\n",
       "  }\n",
       "  th, td {\n",
       "    padding: 5px;\n",
       "  }\n",
       "  th {\n",
       "    text-align: left;\n",
       "  }\n",
       "</style><div class='table-result-container'><table class='table-result'><thead style='background-color: white'><tr><th>station_id</th><th>name</th><th>lat</th><th>long</th><th>dockcount</th><th>landmark</th><th>installation</th><th>clean_name</th><th>second_word</th><th>name_words</th><th>has_station</th></tr></thead><tbody><tr><td>2</td><td>San Jose Diridon Caltrain Station</td><td>37.329732</td><td>-121.901782</td><td>27</td><td>San Jose</td><td>8/6/2013</td><td>San Jose Diridon Caltrain Station</td><td>Jose</td><td>List(San, Jose, Diridon, Caltrain, Station)</td><td>true</td></tr><tr><td>3</td><td>San Jose Civic Center</td><td>37.330698</td><td>-121.888979</td><td>15</td><td>San Jose</td><td>8/5/2013</td><td>San Jose Civic Center</td><td>Jose</td><td>List(San, Jose, Civic, Center)</td><td>false</td></tr><tr><td>4</td><td>Santa Clara at Almaden</td><td>37.333988</td><td>-121.894902</td><td>11</td><td>San Jose</td><td>8/6/2013</td><td>Santa Clara at Almaden</td><td>Clara</td><td>List(Santa, Clara, at, Almaden)</td><td>false</td></tr><tr><td>5</td><td>Adobe on Almaden</td><td>37.331415</td><td>-121.8932</td><td>19</td><td>San Jose</td><td>8/5/2013</td><td>Adobe on Almaden</td><td>on</td><td>List(Adobe, on, Almaden)</td><td>false</td></tr><tr><td>6</td><td>San Pedro Square</td><td>37.336721</td><td>-121.894074</td><td>15</td><td>San Jose</td><td>8/7/2013</td><td>San Pedro Square</td><td>Pedro</td><td>List(San, Pedro, Square)</td><td>false</td></tr><tr><td>7</td><td>Paseo de San Antonio</td><td>37.333798</td><td>-121.886943</td><td>15</td><td>San Jose</td><td>8/7/2013</td><td>Paseo de San Antonio</td><td>de</td><td>List(Paseo, de, San, Antonio)</td><td>false</td></tr><tr><td>8</td><td>San Salvador at 1st</td><td>37.330165</td><td>-121.885831</td><td>15</td><td>San Jose</td><td>8/5/2013</td><td>San Salvador at 1st</td><td>Salvador</td><td>List(San, Salvador, at, 1st)</td><td>false</td></tr><tr><td>9</td><td>Japantown</td><td>37.348742</td><td>-121.894715</td><td>15</td><td>San Jose</td><td>8/5/2013</td><td>Japantown</td><td></td><td>List(Japantown)</td><td>false</td></tr><tr><td>10</td><td>San Jose City Hall</td><td>37.337391</td><td>-121.886995</td><td>15</td><td>San Jose</td><td>8/6/2013</td><td>San Jose City Hall</td><td>Jose</td><td>List(San, Jose, City, Hall)</td><td>false</td></tr><tr><td>11</td><td>MLK Library</td><td>37.335885</td><td>-121.88566</td><td>19</td><td>San Jose</td><td>8/6/2013</td><td>MLK Library</td><td>Library</td><td>List(MLK, Library)</td><td>false</td></tr><tr><td>12</td><td>SJSU 4th at San Carlos</td><td>37.332808</td><td>-121.883891</td><td>19</td><td>San Jose</td><td>8/7/2013</td><td>SJSU 4th at San Carlos</td><td>4th</td><td>List(SJSU, 4th, at, San, Carlos)</td><td>false</td></tr><tr><td>13</td><td>St James Park</td><td>37.339301</td><td>-121.889937</td><td>15</td><td>San Jose</td><td>8/6/2013</td><td>St James Park</td><td>James</td><td>List(St, James, Park)</td><td>false</td></tr><tr><td>14</td><td>Arena Green / SAP Center</td><td>37.332692</td><td>-121.900084</td><td>19</td><td>San Jose</td><td>8/5/2013</td><td>Arena Green  SAP Center</td><td>Green</td><td>List(Arena, Green, /, SAP, Center)</td><td>false</td></tr><tr><td>16</td><td>SJSU - San Salvador at 9th</td><td>37.333955</td><td>-121.877349</td><td>15</td><td>San Jose</td><td>8/7/2013</td><td>SJSU  San Salvador at 9th</td><td></td><td>List(SJSU, -, San, Salvador, at, 9th)</td><td>false</td></tr><tr><td>21</td><td>Franklin at Maple</td><td>37.481758</td><td>-122.226904</td><td>15</td><td>Redwood City</td><td>8/12/2013</td><td>Franklin at Maple</td><td>at</td><td>List(Franklin, at, Maple)</td><td>false</td></tr><tr><td>22</td><td>Redwood City Caltrain Station</td><td>37.486078</td><td>-122.232089</td><td>25</td><td>Redwood City</td><td>8/15/2013</td><td>Redwood City Caltrain Station</td><td>City</td><td>List(Redwood, City, Caltrain, Station)</td><td>true</td></tr><tr><td>23</td><td>San Mateo County Center</td><td>37.487616</td><td>-122.229951</td><td>15</td><td>Redwood City</td><td>8/15/2013</td><td>San Mateo County Center</td><td>Mateo</td><td>List(San, Mateo, County, Center)</td><td>false</td></tr><tr><td>24</td><td>Redwood City Public Library</td><td>37.484219</td><td>-122.227424</td><td>15</td><td>Redwood City</td><td>8/12/2013</td><td>Redwood City Public Library</td><td>City</td><td>List(Redwood, City, Public, Library)</td><td>false</td></tr><tr><td>25</td><td>Stanford in Redwood City</td><td>37.48537</td><td>-122.203288</td><td>15</td><td>Redwood City</td><td>8/12/2013</td><td>Stanford in Redwood City</td><td>in</td><td>List(Stanford, in, Redwood, City)</td><td>false</td></tr><tr><td>26</td><td>Redwood City Medical Center</td><td>37.487682</td><td>-122.223492</td><td>15</td><td>Redwood City</td><td>8/12/2013</td><td>Redwood City Medical Center</td><td>City</td><td>List(Redwood, City, Medical, Center)</td><td>false</td></tr></tbody></table></div>"
      ]
     },
     "metadata": {
      "application/vnd.databricks.v1+output": {
       "addedWidgets": {},
       "aggData": [],
       "aggError": "",
       "aggOverflow": false,
       "aggSchema": [],
       "aggSeriesLimitReached": false,
       "aggType": "",
       "arguments": {},
       "columnCustomDisplayInfos": {},
       "data": [
        [
         "2",
         "San Jose Diridon Caltrain Station",
         "37.329732",
         "-121.901782",
         "27",
         "San Jose",
         "8/6/2013",
         "San Jose Diridon Caltrain Station",
         "Jose",
         [
          "San",
          "Jose",
          "Diridon",
          "Caltrain",
          "Station"
         ],
         true
        ],
        [
         "3",
         "San Jose Civic Center",
         "37.330698",
         "-121.888979",
         "15",
         "San Jose",
         "8/5/2013",
         "San Jose Civic Center",
         "Jose",
         [
          "San",
          "Jose",
          "Civic",
          "Center"
         ],
         false
        ],
        [
         "4",
         "Santa Clara at Almaden",
         "37.333988",
         "-121.894902",
         "11",
         "San Jose",
         "8/6/2013",
         "Santa Clara at Almaden",
         "Clara",
         [
          "Santa",
          "Clara",
          "at",
          "Almaden"
         ],
         false
        ],
        [
         "5",
         "Adobe on Almaden",
         "37.331415",
         "-121.8932",
         "19",
         "San Jose",
         "8/5/2013",
         "Adobe on Almaden",
         "on",
         [
          "Adobe",
          "on",
          "Almaden"
         ],
         false
        ],
        [
         "6",
         "San Pedro Square",
         "37.336721",
         "-121.894074",
         "15",
         "San Jose",
         "8/7/2013",
         "San Pedro Square",
         "Pedro",
         [
          "San",
          "Pedro",
          "Square"
         ],
         false
        ],
        [
         "7",
         "Paseo de San Antonio",
         "37.333798",
         "-121.886943",
         "15",
         "San Jose",
         "8/7/2013",
         "Paseo de San Antonio",
         "de",
         [
          "Paseo",
          "de",
          "San",
          "Antonio"
         ],
         false
        ],
        [
         "8",
         "San Salvador at 1st",
         "37.330165",
         "-121.885831",
         "15",
         "San Jose",
         "8/5/2013",
         "San Salvador at 1st",
         "Salvador",
         [
          "San",
          "Salvador",
          "at",
          "1st"
         ],
         false
        ],
        [
         "9",
         "Japantown",
         "37.348742",
         "-121.894715",
         "15",
         "San Jose",
         "8/5/2013",
         "Japantown",
         "",
         [
          "Japantown"
         ],
         false
        ],
        [
         "10",
         "San Jose City Hall",
         "37.337391",
         "-121.886995",
         "15",
         "San Jose",
         "8/6/2013",
         "San Jose City Hall",
         "Jose",
         [
          "San",
          "Jose",
          "City",
          "Hall"
         ],
         false
        ],
        [
         "11",
         "MLK Library",
         "37.335885",
         "-121.88566",
         "19",
         "San Jose",
         "8/6/2013",
         "MLK Library",
         "Library",
         [
          "MLK",
          "Library"
         ],
         false
        ],
        [
         "12",
         "SJSU 4th at San Carlos",
         "37.332808",
         "-121.883891",
         "19",
         "San Jose",
         "8/7/2013",
         "SJSU 4th at San Carlos",
         "4th",
         [
          "SJSU",
          "4th",
          "at",
          "San",
          "Carlos"
         ],
         false
        ],
        [
         "13",
         "St James Park",
         "37.339301",
         "-121.889937",
         "15",
         "San Jose",
         "8/6/2013",
         "St James Park",
         "James",
         [
          "St",
          "James",
          "Park"
         ],
         false
        ],
        [
         "14",
         "Arena Green / SAP Center",
         "37.332692",
         "-121.900084",
         "19",
         "San Jose",
         "8/5/2013",
         "Arena Green  SAP Center",
         "Green",
         [
          "Arena",
          "Green",
          "/",
          "SAP",
          "Center"
         ],
         false
        ],
        [
         "16",
         "SJSU - San Salvador at 9th",
         "37.333955",
         "-121.877349",
         "15",
         "San Jose",
         "8/7/2013",
         "SJSU  San Salvador at 9th",
         "",
         [
          "SJSU",
          "-",
          "San",
          "Salvador",
          "at",
          "9th"
         ],
         false
        ],
        [
         "21",
         "Franklin at Maple",
         "37.481758",
         "-122.226904",
         "15",
         "Redwood City",
         "8/12/2013",
         "Franklin at Maple",
         "at",
         [
          "Franklin",
          "at",
          "Maple"
         ],
         false
        ],
        [
         "22",
         "Redwood City Caltrain Station",
         "37.486078",
         "-122.232089",
         "25",
         "Redwood City",
         "8/15/2013",
         "Redwood City Caltrain Station",
         "City",
         [
          "Redwood",
          "City",
          "Caltrain",
          "Station"
         ],
         true
        ],
        [
         "23",
         "San Mateo County Center",
         "37.487616",
         "-122.229951",
         "15",
         "Redwood City",
         "8/15/2013",
         "San Mateo County Center",
         "Mateo",
         [
          "San",
          "Mateo",
          "County",
          "Center"
         ],
         false
        ],
        [
         "24",
         "Redwood City Public Library",
         "37.484219",
         "-122.227424",
         "15",
         "Redwood City",
         "8/12/2013",
         "Redwood City Public Library",
         "City",
         [
          "Redwood",
          "City",
          "Public",
          "Library"
         ],
         false
        ],
        [
         "25",
         "Stanford in Redwood City",
         "37.48537",
         "-122.203288",
         "15",
         "Redwood City",
         "8/12/2013",
         "Stanford in Redwood City",
         "in",
         [
          "Stanford",
          "in",
          "Redwood",
          "City"
         ],
         false
        ],
        [
         "26",
         "Redwood City Medical Center",
         "37.487682",
         "-122.223492",
         "15",
         "Redwood City",
         "8/12/2013",
         "Redwood City Medical Center",
         "City",
         [
          "Redwood",
          "City",
          "Medical",
          "Center"
         ],
         false
        ]
       ],
       "datasetInfos": [],
       "dbfsResultPath": null,
       "isJsonSchema": true,
       "metadata": {},
       "overflow": false,
       "plotOptions": {
        "customPlotOptions": {},
        "displayType": "table",
        "pivotAggregation": null,
        "pivotColumns": null,
        "xColumns": null,
        "yColumns": null
       },
       "removedWidgets": [],
       "schema": [
        {
         "metadata": "{}",
         "name": "station_id",
         "type": "\"string\""
        },
        {
         "metadata": "{}",
         "name": "name",
         "type": "\"string\""
        },
        {
         "metadata": "{}",
         "name": "lat",
         "type": "\"string\""
        },
        {
         "metadata": "{}",
         "name": "long",
         "type": "\"string\""
        },
        {
         "metadata": "{}",
         "name": "dockcount",
         "type": "\"string\""
        },
        {
         "metadata": "{}",
         "name": "landmark",
         "type": "\"string\""
        },
        {
         "metadata": "{}",
         "name": "installation",
         "type": "\"string\""
        },
        {
         "metadata": "{}",
         "name": "clean_name",
         "type": "\"string\""
        },
        {
         "metadata": "{}",
         "name": "second_word",
         "type": "\"string\""
        },
        {
         "metadata": "{}",
         "name": "name_words",
         "type": "{\"type\":\"array\",\"elementType\":\"string\",\"containsNull\":false}"
        },
        {
         "metadata": "{}",
         "name": "has_station",
         "type": "\"boolean\""
        }
       ],
       "type": "table"
      }
     },
     "output_type": "display_data"
    },
    {
     "output_type": "stream",
     "name": "stdout",
     "output_type": "stream",
     "text": [
      "root\n |-- station_id: string (nullable = true)\n |-- name: string (nullable = false)\n |-- lat: string (nullable = true)\n |-- long: string (nullable = true)\n |-- dockcount: string (nullable = true)\n |-- landmark: string (nullable = true)\n |-- installation: string (nullable = true)\n |-- clean_name: string (nullable = false)\n |-- second_word: string (nullable = false)\n |-- name_words: array (nullable = false)\n |    |-- element: string (containsNull = false)\n |-- has_station: boolean (nullable = false)\n\n"
     ]
    }
   ],
   "source": [
    "df = df.withColumn(\"name_words\", split(\"name\", \" \")) \\\n",
    "    .withColumn(\"has_station\", array_contains(\"name_words\", \"Station\"))\n",
    "display(df.limit(20))\n",
    "df.printSchema()"
   ]
  },
  {
   "cell_type": "code",
   "execution_count": 0,
   "metadata": {
    "application/vnd.databricks.v1+cell": {
     "cellMetadata": {
      "byteLimit": 2048000,
      "rowLimit": 10000
     },
     "inputWidgets": {},
     "nuid": "024a1a4c-ad01-484a-a9e0-c355db34f3b3",
     "showTitle": false,
     "tableResultSettingsMap": {},
     "title": ""
    }
   },
   "outputs": [
    {
     "output_type": "display_data",
     "data": {
      "text/html": [
       "<style scoped>\n",
       "  .table-result-container {\n",
       "    max-height: 300px;\n",
       "    overflow: auto;\n",
       "  }\n",
       "  table, th, td {\n",
       "    border: 1px solid black;\n",
       "    border-collapse: collapse;\n",
       "  }\n",
       "  th, td {\n",
       "    padding: 5px;\n",
       "  }\n",
       "  th {\n",
       "    text-align: left;\n",
       "  }\n",
       "</style><div class='table-result-container'><table class='table-result'><thead style='background-color: white'><tr><th>station_id</th><th>name</th><th>lat</th><th>long</th><th>dockcount</th><th>landmark</th><th>installation</th><th>clean_name</th><th>second_word</th><th>name_words</th><th>has_station</th><th>null_if_demo</th><th>coalesced_name</th></tr></thead><tbody><tr><td>2</td><td>San Jose Diridon Caltrain Station</td><td>37.329732</td><td>-121.901782</td><td>27</td><td>San Jose</td><td>8/6/2013</td><td>San Jose Diridon Caltrain Station</td><td>Jose</td><td>List(San, Jose, Diridon, Caltrain, Station)</td><td>true</td><td>San Jose Diridon Caltrain Station</td><td>San Jose Diridon Caltrain Station</td></tr><tr><td>3</td><td>San Jose Civic Center</td><td>37.330698</td><td>-121.888979</td><td>15</td><td>San Jose</td><td>8/5/2013</td><td>San Jose Civic Center</td><td>Jose</td><td>List(San, Jose, Civic, Center)</td><td>false</td><td>San Jose Civic Center</td><td>San Jose Civic Center</td></tr><tr><td>4</td><td>Santa Clara at Almaden</td><td>37.333988</td><td>-121.894902</td><td>11</td><td>San Jose</td><td>8/6/2013</td><td>Santa Clara at Almaden</td><td>Clara</td><td>List(Santa, Clara, at, Almaden)</td><td>false</td><td>Santa Clara at Almaden</td><td>Santa Clara at Almaden</td></tr><tr><td>5</td><td>Adobe on Almaden</td><td>37.331415</td><td>-121.8932</td><td>19</td><td>San Jose</td><td>8/5/2013</td><td>Adobe on Almaden</td><td>on</td><td>List(Adobe, on, Almaden)</td><td>false</td><td>Adobe on Almaden</td><td>Adobe on Almaden</td></tr><tr><td>6</td><td>San Pedro Square</td><td>37.336721</td><td>-121.894074</td><td>15</td><td>San Jose</td><td>8/7/2013</td><td>San Pedro Square</td><td>Pedro</td><td>List(San, Pedro, Square)</td><td>false</td><td>San Pedro Square</td><td>San Pedro Square</td></tr><tr><td>7</td><td>Paseo de San Antonio</td><td>37.333798</td><td>-121.886943</td><td>15</td><td>San Jose</td><td>8/7/2013</td><td>Paseo de San Antonio</td><td>de</td><td>List(Paseo, de, San, Antonio)</td><td>false</td><td>Paseo de San Antonio</td><td>Paseo de San Antonio</td></tr><tr><td>8</td><td>San Salvador at 1st</td><td>37.330165</td><td>-121.885831</td><td>15</td><td>San Jose</td><td>8/5/2013</td><td>San Salvador at 1st</td><td>Salvador</td><td>List(San, Salvador, at, 1st)</td><td>false</td><td>San Salvador at 1st</td><td>San Salvador at 1st</td></tr><tr><td>9</td><td>Japantown</td><td>37.348742</td><td>-121.894715</td><td>15</td><td>San Jose</td><td>8/5/2013</td><td>Japantown</td><td></td><td>List(Japantown)</td><td>false</td><td>Japantown</td><td>Japantown</td></tr><tr><td>10</td><td>San Jose City Hall</td><td>37.337391</td><td>-121.886995</td><td>15</td><td>San Jose</td><td>8/6/2013</td><td>San Jose City Hall</td><td>Jose</td><td>List(San, Jose, City, Hall)</td><td>false</td><td>San Jose City Hall</td><td>San Jose City Hall</td></tr><tr><td>11</td><td>MLK Library</td><td>37.335885</td><td>-121.88566</td><td>19</td><td>San Jose</td><td>8/6/2013</td><td>MLK Library</td><td>Library</td><td>List(MLK, Library)</td><td>false</td><td>MLK Library</td><td>MLK Library</td></tr><tr><td>12</td><td>SJSU 4th at San Carlos</td><td>37.332808</td><td>-121.883891</td><td>19</td><td>San Jose</td><td>8/7/2013</td><td>SJSU 4th at San Carlos</td><td>4th</td><td>List(SJSU, 4th, at, San, Carlos)</td><td>false</td><td>SJSU 4th at San Carlos</td><td>SJSU 4th at San Carlos</td></tr><tr><td>13</td><td>St James Park</td><td>37.339301</td><td>-121.889937</td><td>15</td><td>San Jose</td><td>8/6/2013</td><td>St James Park</td><td>James</td><td>List(St, James, Park)</td><td>false</td><td>St James Park</td><td>St James Park</td></tr><tr><td>14</td><td>Arena Green / SAP Center</td><td>37.332692</td><td>-121.900084</td><td>19</td><td>San Jose</td><td>8/5/2013</td><td>Arena Green  SAP Center</td><td>Green</td><td>List(Arena, Green, /, SAP, Center)</td><td>false</td><td>Arena Green / SAP Center</td><td>Arena Green / SAP Center</td></tr><tr><td>16</td><td>SJSU - San Salvador at 9th</td><td>37.333955</td><td>-121.877349</td><td>15</td><td>San Jose</td><td>8/7/2013</td><td>SJSU  San Salvador at 9th</td><td></td><td>List(SJSU, -, San, Salvador, at, 9th)</td><td>false</td><td>SJSU - San Salvador at 9th</td><td>SJSU - San Salvador at 9th</td></tr><tr><td>21</td><td>Franklin at Maple</td><td>37.481758</td><td>-122.226904</td><td>15</td><td>Redwood City</td><td>8/12/2013</td><td>Franklin at Maple</td><td>at</td><td>List(Franklin, at, Maple)</td><td>false</td><td>Franklin at Maple</td><td>Franklin at Maple</td></tr><tr><td>22</td><td>Redwood City Caltrain Station</td><td>37.486078</td><td>-122.232089</td><td>25</td><td>Redwood City</td><td>8/15/2013</td><td>Redwood City Caltrain Station</td><td>City</td><td>List(Redwood, City, Caltrain, Station)</td><td>true</td><td>Redwood City Caltrain Station</td><td>Redwood City Caltrain Station</td></tr><tr><td>23</td><td>San Mateo County Center</td><td>37.487616</td><td>-122.229951</td><td>15</td><td>Redwood City</td><td>8/15/2013</td><td>San Mateo County Center</td><td>Mateo</td><td>List(San, Mateo, County, Center)</td><td>false</td><td>San Mateo County Center</td><td>San Mateo County Center</td></tr><tr><td>24</td><td>Redwood City Public Library</td><td>37.484219</td><td>-122.227424</td><td>15</td><td>Redwood City</td><td>8/12/2013</td><td>Redwood City Public Library</td><td>City</td><td>List(Redwood, City, Public, Library)</td><td>false</td><td>Redwood City Public Library</td><td>Redwood City Public Library</td></tr><tr><td>25</td><td>Stanford in Redwood City</td><td>37.48537</td><td>-122.203288</td><td>15</td><td>Redwood City</td><td>8/12/2013</td><td>Stanford in Redwood City</td><td>in</td><td>List(Stanford, in, Redwood, City)</td><td>false</td><td>Stanford in Redwood City</td><td>Stanford in Redwood City</td></tr><tr><td>26</td><td>Redwood City Medical Center</td><td>37.487682</td><td>-122.223492</td><td>15</td><td>Redwood City</td><td>8/12/2013</td><td>Redwood City Medical Center</td><td>City</td><td>List(Redwood, City, Medical, Center)</td><td>false</td><td>Redwood City Medical Center</td><td>Redwood City Medical Center</td></tr></tbody></table></div>"
      ]
     },
     "metadata": {
      "application/vnd.databricks.v1+output": {
       "addedWidgets": {},
       "aggData": [],
       "aggError": "",
       "aggOverflow": false,
       "aggSchema": [],
       "aggSeriesLimitReached": false,
       "aggType": "",
       "arguments": {},
       "columnCustomDisplayInfos": {},
       "data": [
        [
         "2",
         "San Jose Diridon Caltrain Station",
         "37.329732",
         "-121.901782",
         "27",
         "San Jose",
         "8/6/2013",
         "San Jose Diridon Caltrain Station",
         "Jose",
         [
          "San",
          "Jose",
          "Diridon",
          "Caltrain",
          "Station"
         ],
         true,
         "San Jose Diridon Caltrain Station",
         "San Jose Diridon Caltrain Station"
        ],
        [
         "3",
         "San Jose Civic Center",
         "37.330698",
         "-121.888979",
         "15",
         "San Jose",
         "8/5/2013",
         "San Jose Civic Center",
         "Jose",
         [
          "San",
          "Jose",
          "Civic",
          "Center"
         ],
         false,
         "San Jose Civic Center",
         "San Jose Civic Center"
        ],
        [
         "4",
         "Santa Clara at Almaden",
         "37.333988",
         "-121.894902",
         "11",
         "San Jose",
         "8/6/2013",
         "Santa Clara at Almaden",
         "Clara",
         [
          "Santa",
          "Clara",
          "at",
          "Almaden"
         ],
         false,
         "Santa Clara at Almaden",
         "Santa Clara at Almaden"
        ],
        [
         "5",
         "Adobe on Almaden",
         "37.331415",
         "-121.8932",
         "19",
         "San Jose",
         "8/5/2013",
         "Adobe on Almaden",
         "on",
         [
          "Adobe",
          "on",
          "Almaden"
         ],
         false,
         "Adobe on Almaden",
         "Adobe on Almaden"
        ],
        [
         "6",
         "San Pedro Square",
         "37.336721",
         "-121.894074",
         "15",
         "San Jose",
         "8/7/2013",
         "San Pedro Square",
         "Pedro",
         [
          "San",
          "Pedro",
          "Square"
         ],
         false,
         "San Pedro Square",
         "San Pedro Square"
        ],
        [
         "7",
         "Paseo de San Antonio",
         "37.333798",
         "-121.886943",
         "15",
         "San Jose",
         "8/7/2013",
         "Paseo de San Antonio",
         "de",
         [
          "Paseo",
          "de",
          "San",
          "Antonio"
         ],
         false,
         "Paseo de San Antonio",
         "Paseo de San Antonio"
        ],
        [
         "8",
         "San Salvador at 1st",
         "37.330165",
         "-121.885831",
         "15",
         "San Jose",
         "8/5/2013",
         "San Salvador at 1st",
         "Salvador",
         [
          "San",
          "Salvador",
          "at",
          "1st"
         ],
         false,
         "San Salvador at 1st",
         "San Salvador at 1st"
        ],
        [
         "9",
         "Japantown",
         "37.348742",
         "-121.894715",
         "15",
         "San Jose",
         "8/5/2013",
         "Japantown",
         "",
         [
          "Japantown"
         ],
         false,
         "Japantown",
         "Japantown"
        ],
        [
         "10",
         "San Jose City Hall",
         "37.337391",
         "-121.886995",
         "15",
         "San Jose",
         "8/6/2013",
         "San Jose City Hall",
         "Jose",
         [
          "San",
          "Jose",
          "City",
          "Hall"
         ],
         false,
         "San Jose City Hall",
         "San Jose City Hall"
        ],
        [
         "11",
         "MLK Library",
         "37.335885",
         "-121.88566",
         "19",
         "San Jose",
         "8/6/2013",
         "MLK Library",
         "Library",
         [
          "MLK",
          "Library"
         ],
         false,
         "MLK Library",
         "MLK Library"
        ],
        [
         "12",
         "SJSU 4th at San Carlos",
         "37.332808",
         "-121.883891",
         "19",
         "San Jose",
         "8/7/2013",
         "SJSU 4th at San Carlos",
         "4th",
         [
          "SJSU",
          "4th",
          "at",
          "San",
          "Carlos"
         ],
         false,
         "SJSU 4th at San Carlos",
         "SJSU 4th at San Carlos"
        ],
        [
         "13",
         "St James Park",
         "37.339301",
         "-121.889937",
         "15",
         "San Jose",
         "8/6/2013",
         "St James Park",
         "James",
         [
          "St",
          "James",
          "Park"
         ],
         false,
         "St James Park",
         "St James Park"
        ],
        [
         "14",
         "Arena Green / SAP Center",
         "37.332692",
         "-121.900084",
         "19",
         "San Jose",
         "8/5/2013",
         "Arena Green  SAP Center",
         "Green",
         [
          "Arena",
          "Green",
          "/",
          "SAP",
          "Center"
         ],
         false,
         "Arena Green / SAP Center",
         "Arena Green / SAP Center"
        ],
        [
         "16",
         "SJSU - San Salvador at 9th",
         "37.333955",
         "-121.877349",
         "15",
         "San Jose",
         "8/7/2013",
         "SJSU  San Salvador at 9th",
         "",
         [
          "SJSU",
          "-",
          "San",
          "Salvador",
          "at",
          "9th"
         ],
         false,
         "SJSU - San Salvador at 9th",
         "SJSU - San Salvador at 9th"
        ],
        [
         "21",
         "Franklin at Maple",
         "37.481758",
         "-122.226904",
         "15",
         "Redwood City",
         "8/12/2013",
         "Franklin at Maple",
         "at",
         [
          "Franklin",
          "at",
          "Maple"
         ],
         false,
         "Franklin at Maple",
         "Franklin at Maple"
        ],
        [
         "22",
         "Redwood City Caltrain Station",
         "37.486078",
         "-122.232089",
         "25",
         "Redwood City",
         "8/15/2013",
         "Redwood City Caltrain Station",
         "City",
         [
          "Redwood",
          "City",
          "Caltrain",
          "Station"
         ],
         true,
         "Redwood City Caltrain Station",
         "Redwood City Caltrain Station"
        ],
        [
         "23",
         "San Mateo County Center",
         "37.487616",
         "-122.229951",
         "15",
         "Redwood City",
         "8/15/2013",
         "San Mateo County Center",
         "Mateo",
         [
          "San",
          "Mateo",
          "County",
          "Center"
         ],
         false,
         "San Mateo County Center",
         "San Mateo County Center"
        ],
        [
         "24",
         "Redwood City Public Library",
         "37.484219",
         "-122.227424",
         "15",
         "Redwood City",
         "8/12/2013",
         "Redwood City Public Library",
         "City",
         [
          "Redwood",
          "City",
          "Public",
          "Library"
         ],
         false,
         "Redwood City Public Library",
         "Redwood City Public Library"
        ],
        [
         "25",
         "Stanford in Redwood City",
         "37.48537",
         "-122.203288",
         "15",
         "Redwood City",
         "8/12/2013",
         "Stanford in Redwood City",
         "in",
         [
          "Stanford",
          "in",
          "Redwood",
          "City"
         ],
         false,
         "Stanford in Redwood City",
         "Stanford in Redwood City"
        ],
        [
         "26",
         "Redwood City Medical Center",
         "37.487682",
         "-122.223492",
         "15",
         "Redwood City",
         "8/12/2013",
         "Redwood City Medical Center",
         "City",
         [
          "Redwood",
          "City",
          "Medical",
          "Center"
         ],
         false,
         "Redwood City Medical Center",
         "Redwood City Medical Center"
        ]
       ],
       "datasetInfos": [],
       "dbfsResultPath": null,
       "isJsonSchema": true,
       "metadata": {},
       "overflow": false,
       "plotOptions": {
        "customPlotOptions": {},
        "displayType": "table",
        "pivotAggregation": null,
        "pivotColumns": null,
        "xColumns": null,
        "yColumns": null
       },
       "removedWidgets": [],
       "schema": [
        {
         "metadata": "{}",
         "name": "station_id",
         "type": "\"string\""
        },
        {
         "metadata": "{}",
         "name": "name",
         "type": "\"string\""
        },
        {
         "metadata": "{}",
         "name": "lat",
         "type": "\"string\""
        },
        {
         "metadata": "{}",
         "name": "long",
         "type": "\"string\""
        },
        {
         "metadata": "{}",
         "name": "dockcount",
         "type": "\"string\""
        },
        {
         "metadata": "{}",
         "name": "landmark",
         "type": "\"string\""
        },
        {
         "metadata": "{}",
         "name": "installation",
         "type": "\"string\""
        },
        {
         "metadata": "{}",
         "name": "clean_name",
         "type": "\"string\""
        },
        {
         "metadata": "{}",
         "name": "second_word",
         "type": "\"string\""
        },
        {
         "metadata": "{}",
         "name": "name_words",
         "type": "{\"type\":\"array\",\"elementType\":\"string\",\"containsNull\":false}"
        },
        {
         "metadata": "{}",
         "name": "has_station",
         "type": "\"boolean\""
        },
        {
         "metadata": "{}",
         "name": "null_if_demo",
         "type": "\"string\""
        },
        {
         "metadata": "{}",
         "name": "coalesced_name",
         "type": "\"string\""
        }
       ],
       "type": "table"
      }
     },
     "output_type": "display_data"
    },
    {
     "output_type": "stream",
     "name": "stdout",
     "output_type": "stream",
     "text": [
      "root\n |-- station_id: string (nullable = true)\n |-- name: string (nullable = false)\n |-- lat: string (nullable = true)\n |-- long: string (nullable = true)\n |-- dockcount: string (nullable = true)\n |-- landmark: string (nullable = true)\n |-- installation: string (nullable = true)\n |-- clean_name: string (nullable = false)\n |-- second_word: string (nullable = false)\n |-- name_words: array (nullable = false)\n |    |-- element: string (containsNull = false)\n |-- has_station: boolean (nullable = false)\n |-- null_if_demo: string (nullable = true)\n |-- coalesced_name: string (nullable = false)\n\n"
     ]
    }
   ],
   "source": [
    "\n",
    "df = df.withColumn(\"null_if_demo\", expr(\"nullif(name, 'Unknown Station')\")) \\\n",
    "       .withColumn(\"coalesced_name\", coalesce(\"name\", \"second_word\"))  \n",
    "\n",
    "display(df.limit(20))\n",
    "df.printSchema()\n"
   ]
  },
  {
   "cell_type": "code",
   "execution_count": 0,
   "metadata": {
    "application/vnd.databricks.v1+cell": {
     "cellMetadata": {
      "byteLimit": 2048000,
      "rowLimit": 10000
     },
     "inputWidgets": {},
     "nuid": "a1052053-58ee-4458-911e-673b72b21798",
     "showTitle": false,
     "tableResultSettingsMap": {},
     "title": ""
    }
   },
   "outputs": [
    {
     "output_type": "stream",
     "name": "stdout",
     "output_type": "stream",
     "text": [
      "+-------------+---------------+------------------+--------------------+\n|     landmark|unique_stations|      avg_latitude|    stddev_longitude|\n+-------------+---------------+------------------+--------------------+\n|    Palo Alto|              5|       37.43837458|0.012413503945301538|\n|San Francisco|             35| 37.78774634285713| 0.00828639823460809|\n|     San Jose|             16| 37.33641356249999|0.007323157156125444|\n| Redwood City|              7| 37.48628457142858|0.010656859653133309|\n|Mountain View|              7|37.395347571428566| 0.01593977855047134|\n+-------------+---------------+------------------+--------------------+\n\n"
     ]
    },
    {
     "output_type": "display_data",
     "data": {
      "text/html": [
       "<style scoped>\n",
       "  .table-result-container {\n",
       "    max-height: 300px;\n",
       "    overflow: auto;\n",
       "  }\n",
       "  table, th, td {\n",
       "    border: 1px solid black;\n",
       "    border-collapse: collapse;\n",
       "  }\n",
       "  th, td {\n",
       "    padding: 5px;\n",
       "  }\n",
       "  th {\n",
       "    text-align: left;\n",
       "  }\n",
       "</style><div class='table-result-container'><table class='table-result'><thead style='background-color: white'><tr><th>station_id</th><th>name</th><th>lat</th><th>long</th><th>dockcount</th><th>landmark</th><th>installation</th><th>clean_name</th><th>second_word</th><th>name_words</th><th>has_station</th><th>null_if_demo</th><th>coalesced_name</th></tr></thead><tbody><tr><td>2</td><td>San Jose Diridon Caltrain Station</td><td>37.329732</td><td>-121.901782</td><td>27</td><td>San Jose</td><td>8/6/2013</td><td>San Jose Diridon Caltrain Station</td><td>Jose</td><td>List(San, Jose, Diridon, Caltrain, Station)</td><td>true</td><td>San Jose Diridon Caltrain Station</td><td>San Jose Diridon Caltrain Station</td></tr><tr><td>3</td><td>San Jose Civic Center</td><td>37.330698</td><td>-121.888979</td><td>15</td><td>San Jose</td><td>8/5/2013</td><td>San Jose Civic Center</td><td>Jose</td><td>List(San, Jose, Civic, Center)</td><td>false</td><td>San Jose Civic Center</td><td>San Jose Civic Center</td></tr><tr><td>4</td><td>Santa Clara at Almaden</td><td>37.333988</td><td>-121.894902</td><td>11</td><td>San Jose</td><td>8/6/2013</td><td>Santa Clara at Almaden</td><td>Clara</td><td>List(Santa, Clara, at, Almaden)</td><td>false</td><td>Santa Clara at Almaden</td><td>Santa Clara at Almaden</td></tr><tr><td>5</td><td>Adobe on Almaden</td><td>37.331415</td><td>-121.8932</td><td>19</td><td>San Jose</td><td>8/5/2013</td><td>Adobe on Almaden</td><td>on</td><td>List(Adobe, on, Almaden)</td><td>false</td><td>Adobe on Almaden</td><td>Adobe on Almaden</td></tr><tr><td>6</td><td>San Pedro Square</td><td>37.336721</td><td>-121.894074</td><td>15</td><td>San Jose</td><td>8/7/2013</td><td>San Pedro Square</td><td>Pedro</td><td>List(San, Pedro, Square)</td><td>false</td><td>San Pedro Square</td><td>San Pedro Square</td></tr><tr><td>7</td><td>Paseo de San Antonio</td><td>37.333798</td><td>-121.886943</td><td>15</td><td>San Jose</td><td>8/7/2013</td><td>Paseo de San Antonio</td><td>de</td><td>List(Paseo, de, San, Antonio)</td><td>false</td><td>Paseo de San Antonio</td><td>Paseo de San Antonio</td></tr><tr><td>8</td><td>San Salvador at 1st</td><td>37.330165</td><td>-121.885831</td><td>15</td><td>San Jose</td><td>8/5/2013</td><td>San Salvador at 1st</td><td>Salvador</td><td>List(San, Salvador, at, 1st)</td><td>false</td><td>San Salvador at 1st</td><td>San Salvador at 1st</td></tr><tr><td>9</td><td>Japantown</td><td>37.348742</td><td>-121.894715</td><td>15</td><td>San Jose</td><td>8/5/2013</td><td>Japantown</td><td></td><td>List(Japantown)</td><td>false</td><td>Japantown</td><td>Japantown</td></tr><tr><td>10</td><td>San Jose City Hall</td><td>37.337391</td><td>-121.886995</td><td>15</td><td>San Jose</td><td>8/6/2013</td><td>San Jose City Hall</td><td>Jose</td><td>List(San, Jose, City, Hall)</td><td>false</td><td>San Jose City Hall</td><td>San Jose City Hall</td></tr><tr><td>11</td><td>MLK Library</td><td>37.335885</td><td>-121.88566</td><td>19</td><td>San Jose</td><td>8/6/2013</td><td>MLK Library</td><td>Library</td><td>List(MLK, Library)</td><td>false</td><td>MLK Library</td><td>MLK Library</td></tr><tr><td>12</td><td>SJSU 4th at San Carlos</td><td>37.332808</td><td>-121.883891</td><td>19</td><td>San Jose</td><td>8/7/2013</td><td>SJSU 4th at San Carlos</td><td>4th</td><td>List(SJSU, 4th, at, San, Carlos)</td><td>false</td><td>SJSU 4th at San Carlos</td><td>SJSU 4th at San Carlos</td></tr><tr><td>13</td><td>St James Park</td><td>37.339301</td><td>-121.889937</td><td>15</td><td>San Jose</td><td>8/6/2013</td><td>St James Park</td><td>James</td><td>List(St, James, Park)</td><td>false</td><td>St James Park</td><td>St James Park</td></tr><tr><td>14</td><td>Arena Green / SAP Center</td><td>37.332692</td><td>-121.900084</td><td>19</td><td>San Jose</td><td>8/5/2013</td><td>Arena Green  SAP Center</td><td>Green</td><td>List(Arena, Green, /, SAP, Center)</td><td>false</td><td>Arena Green / SAP Center</td><td>Arena Green / SAP Center</td></tr><tr><td>16</td><td>SJSU - San Salvador at 9th</td><td>37.333955</td><td>-121.877349</td><td>15</td><td>San Jose</td><td>8/7/2013</td><td>SJSU  San Salvador at 9th</td><td></td><td>List(SJSU, -, San, Salvador, at, 9th)</td><td>false</td><td>SJSU - San Salvador at 9th</td><td>SJSU - San Salvador at 9th</td></tr><tr><td>21</td><td>Franklin at Maple</td><td>37.481758</td><td>-122.226904</td><td>15</td><td>Redwood City</td><td>8/12/2013</td><td>Franklin at Maple</td><td>at</td><td>List(Franklin, at, Maple)</td><td>false</td><td>Franklin at Maple</td><td>Franklin at Maple</td></tr><tr><td>22</td><td>Redwood City Caltrain Station</td><td>37.486078</td><td>-122.232089</td><td>25</td><td>Redwood City</td><td>8/15/2013</td><td>Redwood City Caltrain Station</td><td>City</td><td>List(Redwood, City, Caltrain, Station)</td><td>true</td><td>Redwood City Caltrain Station</td><td>Redwood City Caltrain Station</td></tr><tr><td>23</td><td>San Mateo County Center</td><td>37.487616</td><td>-122.229951</td><td>15</td><td>Redwood City</td><td>8/15/2013</td><td>San Mateo County Center</td><td>Mateo</td><td>List(San, Mateo, County, Center)</td><td>false</td><td>San Mateo County Center</td><td>San Mateo County Center</td></tr><tr><td>24</td><td>Redwood City Public Library</td><td>37.484219</td><td>-122.227424</td><td>15</td><td>Redwood City</td><td>8/12/2013</td><td>Redwood City Public Library</td><td>City</td><td>List(Redwood, City, Public, Library)</td><td>false</td><td>Redwood City Public Library</td><td>Redwood City Public Library</td></tr><tr><td>25</td><td>Stanford in Redwood City</td><td>37.48537</td><td>-122.203288</td><td>15</td><td>Redwood City</td><td>8/12/2013</td><td>Stanford in Redwood City</td><td>in</td><td>List(Stanford, in, Redwood, City)</td><td>false</td><td>Stanford in Redwood City</td><td>Stanford in Redwood City</td></tr><tr><td>26</td><td>Redwood City Medical Center</td><td>37.487682</td><td>-122.223492</td><td>15</td><td>Redwood City</td><td>8/12/2013</td><td>Redwood City Medical Center</td><td>City</td><td>List(Redwood, City, Medical, Center)</td><td>false</td><td>Redwood City Medical Center</td><td>Redwood City Medical Center</td></tr></tbody></table></div>"
      ]
     },
     "metadata": {
      "application/vnd.databricks.v1+output": {
       "addedWidgets": {},
       "aggData": [],
       "aggError": "",
       "aggOverflow": false,
       "aggSchema": [],
       "aggSeriesLimitReached": false,
       "aggType": "",
       "arguments": {},
       "columnCustomDisplayInfos": {},
       "data": [
        [
         "2",
         "San Jose Diridon Caltrain Station",
         "37.329732",
         "-121.901782",
         "27",
         "San Jose",
         "8/6/2013",
         "San Jose Diridon Caltrain Station",
         "Jose",
         [
          "San",
          "Jose",
          "Diridon",
          "Caltrain",
          "Station"
         ],
         true,
         "San Jose Diridon Caltrain Station",
         "San Jose Diridon Caltrain Station"
        ],
        [
         "3",
         "San Jose Civic Center",
         "37.330698",
         "-121.888979",
         "15",
         "San Jose",
         "8/5/2013",
         "San Jose Civic Center",
         "Jose",
         [
          "San",
          "Jose",
          "Civic",
          "Center"
         ],
         false,
         "San Jose Civic Center",
         "San Jose Civic Center"
        ],
        [
         "4",
         "Santa Clara at Almaden",
         "37.333988",
         "-121.894902",
         "11",
         "San Jose",
         "8/6/2013",
         "Santa Clara at Almaden",
         "Clara",
         [
          "Santa",
          "Clara",
          "at",
          "Almaden"
         ],
         false,
         "Santa Clara at Almaden",
         "Santa Clara at Almaden"
        ],
        [
         "5",
         "Adobe on Almaden",
         "37.331415",
         "-121.8932",
         "19",
         "San Jose",
         "8/5/2013",
         "Adobe on Almaden",
         "on",
         [
          "Adobe",
          "on",
          "Almaden"
         ],
         false,
         "Adobe on Almaden",
         "Adobe on Almaden"
        ],
        [
         "6",
         "San Pedro Square",
         "37.336721",
         "-121.894074",
         "15",
         "San Jose",
         "8/7/2013",
         "San Pedro Square",
         "Pedro",
         [
          "San",
          "Pedro",
          "Square"
         ],
         false,
         "San Pedro Square",
         "San Pedro Square"
        ],
        [
         "7",
         "Paseo de San Antonio",
         "37.333798",
         "-121.886943",
         "15",
         "San Jose",
         "8/7/2013",
         "Paseo de San Antonio",
         "de",
         [
          "Paseo",
          "de",
          "San",
          "Antonio"
         ],
         false,
         "Paseo de San Antonio",
         "Paseo de San Antonio"
        ],
        [
         "8",
         "San Salvador at 1st",
         "37.330165",
         "-121.885831",
         "15",
         "San Jose",
         "8/5/2013",
         "San Salvador at 1st",
         "Salvador",
         [
          "San",
          "Salvador",
          "at",
          "1st"
         ],
         false,
         "San Salvador at 1st",
         "San Salvador at 1st"
        ],
        [
         "9",
         "Japantown",
         "37.348742",
         "-121.894715",
         "15",
         "San Jose",
         "8/5/2013",
         "Japantown",
         "",
         [
          "Japantown"
         ],
         false,
         "Japantown",
         "Japantown"
        ],
        [
         "10",
         "San Jose City Hall",
         "37.337391",
         "-121.886995",
         "15",
         "San Jose",
         "8/6/2013",
         "San Jose City Hall",
         "Jose",
         [
          "San",
          "Jose",
          "City",
          "Hall"
         ],
         false,
         "San Jose City Hall",
         "San Jose City Hall"
        ],
        [
         "11",
         "MLK Library",
         "37.335885",
         "-121.88566",
         "19",
         "San Jose",
         "8/6/2013",
         "MLK Library",
         "Library",
         [
          "MLK",
          "Library"
         ],
         false,
         "MLK Library",
         "MLK Library"
        ],
        [
         "12",
         "SJSU 4th at San Carlos",
         "37.332808",
         "-121.883891",
         "19",
         "San Jose",
         "8/7/2013",
         "SJSU 4th at San Carlos",
         "4th",
         [
          "SJSU",
          "4th",
          "at",
          "San",
          "Carlos"
         ],
         false,
         "SJSU 4th at San Carlos",
         "SJSU 4th at San Carlos"
        ],
        [
         "13",
         "St James Park",
         "37.339301",
         "-121.889937",
         "15",
         "San Jose",
         "8/6/2013",
         "St James Park",
         "James",
         [
          "St",
          "James",
          "Park"
         ],
         false,
         "St James Park",
         "St James Park"
        ],
        [
         "14",
         "Arena Green / SAP Center",
         "37.332692",
         "-121.900084",
         "19",
         "San Jose",
         "8/5/2013",
         "Arena Green  SAP Center",
         "Green",
         [
          "Arena",
          "Green",
          "/",
          "SAP",
          "Center"
         ],
         false,
         "Arena Green / SAP Center",
         "Arena Green / SAP Center"
        ],
        [
         "16",
         "SJSU - San Salvador at 9th",
         "37.333955",
         "-121.877349",
         "15",
         "San Jose",
         "8/7/2013",
         "SJSU  San Salvador at 9th",
         "",
         [
          "SJSU",
          "-",
          "San",
          "Salvador",
          "at",
          "9th"
         ],
         false,
         "SJSU - San Salvador at 9th",
         "SJSU - San Salvador at 9th"
        ],
        [
         "21",
         "Franklin at Maple",
         "37.481758",
         "-122.226904",
         "15",
         "Redwood City",
         "8/12/2013",
         "Franklin at Maple",
         "at",
         [
          "Franklin",
          "at",
          "Maple"
         ],
         false,
         "Franklin at Maple",
         "Franklin at Maple"
        ],
        [
         "22",
         "Redwood City Caltrain Station",
         "37.486078",
         "-122.232089",
         "25",
         "Redwood City",
         "8/15/2013",
         "Redwood City Caltrain Station",
         "City",
         [
          "Redwood",
          "City",
          "Caltrain",
          "Station"
         ],
         true,
         "Redwood City Caltrain Station",
         "Redwood City Caltrain Station"
        ],
        [
         "23",
         "San Mateo County Center",
         "37.487616",
         "-122.229951",
         "15",
         "Redwood City",
         "8/15/2013",
         "San Mateo County Center",
         "Mateo",
         [
          "San",
          "Mateo",
          "County",
          "Center"
         ],
         false,
         "San Mateo County Center",
         "San Mateo County Center"
        ],
        [
         "24",
         "Redwood City Public Library",
         "37.484219",
         "-122.227424",
         "15",
         "Redwood City",
         "8/12/2013",
         "Redwood City Public Library",
         "City",
         [
          "Redwood",
          "City",
          "Public",
          "Library"
         ],
         false,
         "Redwood City Public Library",
         "Redwood City Public Library"
        ],
        [
         "25",
         "Stanford in Redwood City",
         "37.48537",
         "-122.203288",
         "15",
         "Redwood City",
         "8/12/2013",
         "Stanford in Redwood City",
         "in",
         [
          "Stanford",
          "in",
          "Redwood",
          "City"
         ],
         false,
         "Stanford in Redwood City",
         "Stanford in Redwood City"
        ],
        [
         "26",
         "Redwood City Medical Center",
         "37.487682",
         "-122.223492",
         "15",
         "Redwood City",
         "8/12/2013",
         "Redwood City Medical Center",
         "City",
         [
          "Redwood",
          "City",
          "Medical",
          "Center"
         ],
         false,
         "Redwood City Medical Center",
         "Redwood City Medical Center"
        ]
       ],
       "datasetInfos": [],
       "dbfsResultPath": null,
       "isJsonSchema": true,
       "metadata": {},
       "overflow": false,
       "plotOptions": {
        "customPlotOptions": {},
        "displayType": "table",
        "pivotAggregation": null,
        "pivotColumns": null,
        "xColumns": null,
        "yColumns": null
       },
       "removedWidgets": [],
       "schema": [
        {
         "metadata": "{}",
         "name": "station_id",
         "type": "\"string\""
        },
        {
         "metadata": "{}",
         "name": "name",
         "type": "\"string\""
        },
        {
         "metadata": "{}",
         "name": "lat",
         "type": "\"string\""
        },
        {
         "metadata": "{}",
         "name": "long",
         "type": "\"string\""
        },
        {
         "metadata": "{}",
         "name": "dockcount",
         "type": "\"string\""
        },
        {
         "metadata": "{}",
         "name": "landmark",
         "type": "\"string\""
        },
        {
         "metadata": "{}",
         "name": "installation",
         "type": "\"string\""
        },
        {
         "metadata": "{}",
         "name": "clean_name",
         "type": "\"string\""
        },
        {
         "metadata": "{}",
         "name": "second_word",
         "type": "\"string\""
        },
        {
         "metadata": "{}",
         "name": "name_words",
         "type": "{\"type\":\"array\",\"elementType\":\"string\",\"containsNull\":false}"
        },
        {
         "metadata": "{}",
         "name": "has_station",
         "type": "\"boolean\""
        },
        {
         "metadata": "{}",
         "name": "null_if_demo",
         "type": "\"string\""
        },
        {
         "metadata": "{}",
         "name": "coalesced_name",
         "type": "\"string\""
        }
       ],
       "type": "table"
      }
     },
     "output_type": "display_data"
    },
    {
     "output_type": "stream",
     "name": "stdout",
     "output_type": "stream",
     "text": [
      "root\n |-- station_id: string (nullable = true)\n |-- name: string (nullable = false)\n |-- lat: string (nullable = true)\n |-- long: string (nullable = true)\n |-- dockcount: string (nullable = true)\n |-- landmark: string (nullable = true)\n |-- installation: string (nullable = true)\n |-- clean_name: string (nullable = false)\n |-- second_word: string (nullable = false)\n |-- name_words: array (nullable = false)\n |    |-- element: string (containsNull = false)\n |-- has_station: boolean (nullable = false)\n |-- null_if_demo: string (nullable = true)\n |-- coalesced_name: string (nullable = false)\n\n"
     ]
    }
   ],
   "source": [
    "df.groupBy(\"landmark\").agg(\n",
    "    countDistinct(\"station_id\").alias(\"unique_stations\"),\n",
    "    avg(\"lat\").alias(\"avg_latitude\"),\n",
    "    stddev(\"long\").alias(\"stddev_longitude\")\n",
    ").show()\n",
    "\n",
    "display(df.limit(20))\n",
    "df.printSchema()\n"
   ]
  },
  {
   "cell_type": "markdown",
   "metadata": {
    "application/vnd.databricks.v1+cell": {
     "cellMetadata": {
      "byteLimit": 2048000,
      "rowLimit": 10000
     },
     "inputWidgets": {},
     "nuid": "d5e73ebd-583e-44e1-8bad-35c7cec32263",
     "showTitle": false,
     "tableResultSettingsMap": {},
     "title": ""
    }
   },
   "source": [
    "ZADANIE 2"
   ]
  },
  {
   "cell_type": "code",
   "execution_count": 0,
   "metadata": {
    "application/vnd.databricks.v1+cell": {
     "cellMetadata": {
      "byteLimit": 2048000,
      "rowLimit": 10000
     },
     "inputWidgets": {},
     "nuid": "54b1a52a-23eb-44c5-a3e5-a00c7651631f",
     "showTitle": false,
     "tableResultSettingsMap": {},
     "title": ""
    }
   },
   "outputs": [
    {
     "output_type": "display_data",
     "data": {
      "text/html": [
       "<style scoped>\n",
       "  .table-result-container {\n",
       "    max-height: 300px;\n",
       "    overflow: auto;\n",
       "  }\n",
       "  table, th, td {\n",
       "    border: 1px solid black;\n",
       "    border-collapse: collapse;\n",
       "  }\n",
       "  th, td {\n",
       "    padding: 5px;\n",
       "  }\n",
       "  th {\n",
       "    text-align: left;\n",
       "  }\n",
       "</style><div class='table-result-container'><table class='table-result'><thead style='background-color: white'><tr><th>lat</th><th>lat_double</th><th>shifted_latitude</th></tr></thead><tbody><tr><td>37.329732</td><td>37.329732</td><td>37.829732</td></tr><tr><td>37.330698</td><td>37.330698</td><td>37.830698</td></tr><tr><td>37.333988</td><td>37.333988</td><td>37.833988</td></tr><tr><td>37.331415</td><td>37.331415</td><td>37.831415</td></tr><tr><td>37.336721</td><td>37.336721</td><td>37.836721</td></tr><tr><td>37.333798</td><td>37.333798</td><td>37.833798</td></tr><tr><td>37.330165</td><td>37.330165</td><td>37.830165</td></tr><tr><td>37.348742</td><td>37.348742</td><td>37.848742</td></tr><tr><td>37.337391</td><td>37.337391</td><td>37.837391</td></tr><tr><td>37.335885</td><td>37.335885</td><td>37.835885</td></tr><tr><td>37.332808</td><td>37.332808</td><td>37.832808</td></tr><tr><td>37.339301</td><td>37.339301</td><td>37.839301</td></tr><tr><td>37.332692</td><td>37.332692</td><td>37.832692</td></tr><tr><td>37.333955</td><td>37.333955</td><td>37.833955</td></tr><tr><td>37.481758</td><td>37.481758</td><td>37.981758</td></tr><tr><td>37.486078</td><td>37.486078</td><td>37.986078</td></tr><tr><td>37.487616</td><td>37.487616</td><td>37.987616</td></tr><tr><td>37.484219</td><td>37.484219</td><td>37.984219</td></tr><tr><td>37.48537</td><td>37.48537</td><td>37.98537</td></tr><tr><td>37.487682</td><td>37.487682</td><td>37.987682</td></tr><tr><td>37.389218</td><td>37.389218</td><td>37.889218</td></tr><tr><td>37.394358</td><td>37.394358</td><td>37.894358</td></tr><tr><td>37.40694</td><td>37.40694</td><td>37.90694</td></tr><tr><td>37.390277</td><td>37.390277</td><td>37.890277</td></tr><tr><td>37.400443</td><td>37.400443</td><td>37.900443</td></tr><tr><td>37.385956</td><td>37.385956</td><td>37.885956</td></tr><tr><td>37.400241</td><td>37.400241</td><td>37.900241</td></tr><tr><td>37.443988</td><td>37.443988</td><td>37.943988</td></tr><tr><td>37.444521</td><td>37.444521</td><td>37.944521</td></tr><tr><td>37.429082</td><td>37.429082</td><td>37.929082</td></tr><tr><td>37.448598</td><td>37.448598</td><td>37.948598</td></tr><tr><td>37.4256839</td><td>37.4256839</td><td>37.9256839</td></tr><tr><td>37.795001</td><td>37.795001</td><td>38.295001</td></tr><tr><td>37.79728</td><td>37.79728</td><td>38.29728</td></tr><tr><td>37.794231</td><td>37.794231</td><td>38.294231</td></tr><tr><td>37.795425</td><td>37.795425</td><td>38.295425</td></tr><tr><td>37.788975</td><td>37.788975</td><td>38.288975</td></tr><tr><td>37.799953</td><td>37.799953</td><td>38.299953</td></tr><tr><td>37.790302</td><td>37.790302</td><td>38.290302</td></tr><tr><td>37.795392</td><td>37.795392</td><td>38.295392</td></tr><tr><td>37.791464</td><td>37.791464</td><td>38.291464</td></tr><tr><td>37.783871</td><td>37.783871</td><td>38.283871</td></tr><tr><td>37.787152</td><td>37.787152</td><td>38.287152</td></tr><tr><td>37.789756</td><td>37.789756</td><td>38.289756</td></tr><tr><td>37.792251</td><td>37.792251</td><td>38.292251</td></tr><tr><td>37.781752</td><td>37.781752</td><td>38.281752</td></tr><tr><td>37.77865</td><td>37.77865</td><td>38.27865</td></tr><tr><td>37.781332</td><td>37.781332</td><td>38.281332</td></tr><tr><td>37.80477</td><td>37.80477</td><td>38.30477</td></tr><tr><td>37.780526</td><td>37.780526</td><td>38.280526</td></tr><tr><td>37.785299</td><td>37.785299</td><td>38.285299</td></tr><tr><td>37.786978</td><td>37.786978</td><td>38.286978</td></tr><tr><td>37.782259</td><td>37.782259</td><td>38.282259</td></tr><tr><td>37.771058</td><td>37.771058</td><td>38.271058</td></tr><tr><td>37.774814</td><td>37.774814</td><td>38.274814</td></tr><tr><td>37.776619</td><td>37.776619</td><td>38.276619</td></tr><tr><td>37.784878</td><td>37.784878</td><td>38.284878</td></tr><tr><td>37.7766</td><td>37.7766</td><td>38.2766</td></tr><tr><td>37.776617</td><td>37.776617</td><td>38.276617</td></tr><tr><td>37.788446</td><td>37.788446</td><td>38.288446</td></tr><tr><td>37.781039</td><td>37.781039</td><td>38.281039</td></tr><tr><td>37.798522</td><td>37.798522</td><td>38.298522</td></tr><tr><td>37.794139</td><td>37.794139</td><td>38.294139</td></tr><tr><td>37.7913</td><td>37.7913</td><td>38.2913</td></tr><tr><td>37.786305</td><td>37.786305</td><td>38.286305</td></tr><tr><td>37.789625</td><td>37.789625</td><td>38.289625</td></tr><tr><td>37.352601</td><td>37.352601</td><td>37.852601</td></tr><tr><td>37.798541</td><td>37.798541</td><td>38.298541</td></tr><tr><td>37.491269</td><td>37.491269</td><td>37.991269</td></tr><tr><td>37.342725</td><td>37.342725</td><td>37.842725</td></tr></tbody></table></div>"
      ]
     },
     "metadata": {
      "application/vnd.databricks.v1+output": {
       "addedWidgets": {},
       "aggData": [],
       "aggError": "",
       "aggOverflow": false,
       "aggSchema": [],
       "aggSeriesLimitReached": false,
       "aggType": "",
       "arguments": {},
       "columnCustomDisplayInfos": {},
       "data": [
        [
         "37.329732",
         37.329732,
         37.829732
        ],
        [
         "37.330698",
         37.330698,
         37.830698
        ],
        [
         "37.333988",
         37.333988,
         37.833988
        ],
        [
         "37.331415",
         37.331415,
         37.831415
        ],
        [
         "37.336721",
         37.336721,
         37.836721
        ],
        [
         "37.333798",
         37.333798,
         37.833798
        ],
        [
         "37.330165",
         37.330165,
         37.830165
        ],
        [
         "37.348742",
         37.348742,
         37.848742
        ],
        [
         "37.337391",
         37.337391,
         37.837391
        ],
        [
         "37.335885",
         37.335885,
         37.835885
        ],
        [
         "37.332808",
         37.332808,
         37.832808
        ],
        [
         "37.339301",
         37.339301,
         37.839301
        ],
        [
         "37.332692",
         37.332692,
         37.832692
        ],
        [
         "37.333955",
         37.333955,
         37.833955
        ],
        [
         "37.481758",
         37.481758,
         37.981758
        ],
        [
         "37.486078",
         37.486078,
         37.986078
        ],
        [
         "37.487616",
         37.487616,
         37.987616
        ],
        [
         "37.484219",
         37.484219,
         37.984219
        ],
        [
         "37.48537",
         37.48537,
         37.98537
        ],
        [
         "37.487682",
         37.487682,
         37.987682
        ],
        [
         "37.389218",
         37.389218,
         37.889218
        ],
        [
         "37.394358",
         37.394358,
         37.894358
        ],
        [
         "37.40694",
         37.40694,
         37.90694
        ],
        [
         "37.390277",
         37.390277,
         37.890277
        ],
        [
         "37.400443",
         37.400443,
         37.900443
        ],
        [
         "37.385956",
         37.385956,
         37.885956
        ],
        [
         "37.400241",
         37.400241,
         37.900241
        ],
        [
         "37.443988",
         37.443988,
         37.943988
        ],
        [
         "37.444521",
         37.444521,
         37.944521
        ],
        [
         "37.429082",
         37.429082,
         37.929082
        ],
        [
         "37.448598",
         37.448598,
         37.948598
        ],
        [
         "37.4256839",
         37.4256839,
         37.9256839
        ],
        [
         "37.795001",
         37.795001,
         38.295001
        ],
        [
         "37.79728",
         37.79728,
         38.29728
        ],
        [
         "37.794231",
         37.794231,
         38.294231
        ],
        [
         "37.795425",
         37.795425,
         38.295425
        ],
        [
         "37.788975",
         37.788975,
         38.288975
        ],
        [
         "37.799953",
         37.799953,
         38.299953
        ],
        [
         "37.790302",
         37.790302,
         38.290302
        ],
        [
         "37.795392",
         37.795392,
         38.295392
        ],
        [
         "37.791464",
         37.791464,
         38.291464
        ],
        [
         "37.783871",
         37.783871,
         38.283871
        ],
        [
         "37.787152",
         37.787152,
         38.287152
        ],
        [
         "37.789756",
         37.789756,
         38.289756
        ],
        [
         "37.792251",
         37.792251,
         38.292251
        ],
        [
         "37.781752",
         37.781752,
         38.281752
        ],
        [
         "37.77865",
         37.77865,
         38.27865
        ],
        [
         "37.781332",
         37.781332,
         38.281332
        ],
        [
         "37.80477",
         37.80477,
         38.30477
        ],
        [
         "37.780526",
         37.780526,
         38.280526
        ],
        [
         "37.785299",
         37.785299,
         38.285299
        ],
        [
         "37.786978",
         37.786978,
         38.286978
        ],
        [
         "37.782259",
         37.782259,
         38.282259
        ],
        [
         "37.771058",
         37.771058,
         38.271058
        ],
        [
         "37.774814",
         37.774814,
         38.274814
        ],
        [
         "37.776619",
         37.776619,
         38.276619
        ],
        [
         "37.784878",
         37.784878,
         38.284878
        ],
        [
         "37.7766",
         37.7766,
         38.2766
        ],
        [
         "37.776617",
         37.776617,
         38.276617
        ],
        [
         "37.788446",
         37.788446,
         38.288446
        ],
        [
         "37.781039",
         37.781039,
         38.281039
        ],
        [
         "37.798522",
         37.798522,
         38.298522
        ],
        [
         "37.794139",
         37.794139,
         38.294139
        ],
        [
         "37.7913",
         37.7913,
         38.2913
        ],
        [
         "37.786305",
         37.786305,
         38.286305
        ],
        [
         "37.789625",
         37.789625,
         38.289625
        ],
        [
         "37.352601",
         37.352601,
         37.852601
        ],
        [
         "37.798541",
         37.798541,
         38.298541
        ],
        [
         "37.491269",
         37.491269,
         37.991269
        ],
        [
         "37.342725",
         37.342725,
         37.842725
        ]
       ],
       "datasetInfos": [],
       "dbfsResultPath": null,
       "isJsonSchema": true,
       "metadata": {},
       "overflow": false,
       "plotOptions": {
        "customPlotOptions": {},
        "displayType": "table",
        "pivotAggregation": null,
        "pivotColumns": null,
        "xColumns": null,
        "yColumns": null
       },
       "removedWidgets": [],
       "schema": [
        {
         "metadata": "{}",
         "name": "lat",
         "type": "\"string\""
        },
        {
         "metadata": "{}",
         "name": "lat_double",
         "type": "\"double\""
        },
        {
         "metadata": "{}",
         "name": "shifted_latitude",
         "type": "\"double\""
        }
       ],
       "type": "table"
      }
     },
     "output_type": "display_data"
    }
   ],
   "source": [
    "def shift_lat(lat):\n",
    "    return lat + 0.5 if lat is not None else None\n",
    "\n",
    "shift_lat_udf = udf(shift_lat, DoubleType())\n",
    "df = df.withColumn(\"shifted_latitude\", shift_lat_udf(\"lat\"))\n",
    "df = df.withColumn(\"lat_double\", col(\"lat\").cast(\"double\"))\n",
    "df = df.withColumn(\"shifted_latitude\", shift_lat_udf(\"lat_double\"))\n",
    "display(df.select(\"lat\", \"lat_double\", \"shifted_latitude\"))\n"
   ]
  },
  {
   "cell_type": "code",
   "execution_count": 0,
   "metadata": {
    "application/vnd.databricks.v1+cell": {
     "cellMetadata": {
      "byteLimit": 2048000,
      "rowLimit": 10000
     },
     "inputWidgets": {},
     "nuid": "340191a0-b86c-446e-85b9-8cfc011abf2c",
     "showTitle": false,
     "tableResultSettingsMap": {},
     "title": ""
    }
   },
   "outputs": [
    {
     "output_type": "display_data",
     "data": {
      "text/html": [
       "<style scoped>\n",
       "  .table-result-container {\n",
       "    max-height: 300px;\n",
       "    overflow: auto;\n",
       "  }\n",
       "  table, th, td {\n",
       "    border: 1px solid black;\n",
       "    border-collapse: collapse;\n",
       "  }\n",
       "  th, td {\n",
       "    padding: 5px;\n",
       "  }\n",
       "  th {\n",
       "    text-align: left;\n",
       "  }\n",
       "</style><div class='table-result-container'><table class='table-result'><thead style='background-color: white'><tr><th>name</th><th>normalized_name</th></tr></thead><tbody><tr><td>San Jose Diridon Caltrain Station</td><td>jose diridon caltrain station</td></tr><tr><td>San Jose Civic Center</td><td>jose civic center</td></tr><tr><td>Santa Clara at Almaden</td><td>ta clara at almaden</td></tr><tr><td>Adobe on Almaden</td><td>adobe on almaden</td></tr><tr><td>San Pedro Square</td><td>pedro square</td></tr><tr><td>Paseo de San Antonio</td><td>paseo de  antonio</td></tr><tr><td>San Salvador at 1st</td><td>salvador at 1st</td></tr><tr><td>Japantown</td><td>japantown</td></tr><tr><td>San Jose City Hall</td><td>jose city hall</td></tr><tr><td>MLK Library</td><td>mlk library</td></tr><tr><td>SJSU 4th at San Carlos</td><td>sjsu 4th at  carlos</td></tr><tr><td>St James Park</td><td>st james park</td></tr><tr><td>Arena Green / SAP Center</td><td>arena green / sap center</td></tr><tr><td>SJSU - San Salvador at 9th</td><td>sjsu -  salvador at 9th</td></tr><tr><td>Franklin at Maple</td><td>franklin at maple</td></tr><tr><td>Redwood City Caltrain Station</td><td>redwood city caltrain station</td></tr><tr><td>San Mateo County Center</td><td>mateo county center</td></tr><tr><td>Redwood City Public Library</td><td>redwood city public library</td></tr><tr><td>Stanford in Redwood City</td><td>stanford in redwood city</td></tr><tr><td>Redwood City Medical Center</td><td>redwood city medical center</td></tr><tr><td>Mountain View City Hall</td><td>mountain view city hall</td></tr><tr><td>Mountain View Caltrain Station</td><td>mountain view caltrain station</td></tr><tr><td>San Antonio Caltrain Station</td><td>antonio caltrain station</td></tr><tr><td>Evelyn Park and Ride</td><td>evelyn park and ride</td></tr><tr><td>San Antonio Shopping Center</td><td>antonio shopping center</td></tr><tr><td>Castro Street and El Camino Real</td><td>castro street and el camino real</td></tr><tr><td>Rengstorff Avenue / California Street</td><td>rengstorff avenue / california street</td></tr><tr><td>Palo Alto Caltrain Station</td><td>palo alto caltrain station</td></tr><tr><td>University and Emerson</td><td>university and emerson</td></tr><tr><td>California Ave Caltrain Station</td><td>california ave caltrain station</td></tr><tr><td>Cowper at University</td><td>cowper at university</td></tr><tr><td>Park at Olive</td><td>park at olive</td></tr><tr><td>Clay at Battery</td><td>clay at battery</td></tr><tr><td>Davis at Jackson</td><td>davis at jackson</td></tr><tr><td>Commercial at Montgomery</td><td>commercial at montgomery</td></tr><tr><td>Washington at Kearney</td><td>washington at kearney</td></tr><tr><td>Post at Kearney</td><td>post at kearney</td></tr><tr><td>Embarcadero at Vallejo</td><td>embarcadero at vallejo</td></tr><tr><td>Spear at Folsom</td><td>spear at folsom</td></tr><tr><td>Harry Bridges Plaza (Ferry Building)</td><td>harry bridges plaza (ferry building)</td></tr><tr><td>Embarcadero at Folsom</td><td>embarcadero at folsom</td></tr><tr><td>Powell Street BART</td><td>powell street bart</td></tr><tr><td>Embarcadero at Bryant</td><td>embarcadero at bryant</td></tr><tr><td>Temporary Transbay Terminal (Howard at Beale)</td><td>temporary transbay terminal (howard at beale)</td></tr><tr><td>Beale at Market</td><td>beale at market</td></tr><tr><td>5th at Howard</td><td>5th at howard</td></tr><tr><td>San Francisco City Hall</td><td>francisco city hall</td></tr><tr><td>Golden Gate at Polk</td><td>golden gate at polk</td></tr><tr><td>Embarcadero at Sansome</td><td>embarcadero at some</td></tr><tr><td>2nd at Townsend</td><td>2nd at townsend</td></tr><tr><td>2nd at Folsom</td><td>2nd at folsom</td></tr><tr><td>Howard at 2nd</td><td>howard at 2nd</td></tr><tr><td>2nd at South Park</td><td>2nd at south park</td></tr><tr><td>Townsend at 7th</td><td>townsend at 7th</td></tr><tr><td>South Van Ness at Market</td><td>south van ness at market</td></tr><tr><td>Market at 10th</td><td>market at 10th</td></tr><tr><td>Yerba Buena Center of the Arts (3rd @ Howard)</td><td>yerba buena center of the arts (3rd @ howard)</td></tr><tr><td>San Francisco Caltrain 2 (330 Townsend)</td><td>francisco caltrain 2 (330 townsend)</td></tr><tr><td>San Francisco Caltrain (Townsend at 4th)</td><td>francisco caltrain (townsend at 4th)</td></tr><tr><td>Powell at Post (Union Square)</td><td>powell at post (union square)</td></tr><tr><td>Civic Center BART (7th at Market)</td><td>civic center bart (7th at market)</td></tr><tr><td>Grant Avenue at Columbus Avenue</td><td>grant avenue at columbus avenue</td></tr><tr><td>Steuart at Market</td><td>steuart at market</td></tr><tr><td>Mechanics Plaza (Market at Battery)</td><td>mechanics plaza (market at battery)</td></tr><tr><td>Market at 4th</td><td>market at 4th</td></tr><tr><td>Market at Sansome</td><td>market at some</td></tr><tr><td>Santa Clara County Civic Center</td><td>ta clara county civic center</td></tr><tr><td>Broadway St at Battery St</td><td>broadway st at battery st</td></tr><tr><td>Mezes Park</td><td>mezes park</td></tr><tr><td>Ryland Park</td><td>ryland park</td></tr></tbody></table></div>"
      ]
     },
     "metadata": {
      "application/vnd.databricks.v1+output": {
       "addedWidgets": {},
       "aggData": [],
       "aggError": "",
       "aggOverflow": false,
       "aggSchema": [],
       "aggSeriesLimitReached": false,
       "aggType": "",
       "arguments": {},
       "columnCustomDisplayInfos": {},
       "data": [
        [
         "San Jose Diridon Caltrain Station",
         "jose diridon caltrain station"
        ],
        [
         "San Jose Civic Center",
         "jose civic center"
        ],
        [
         "Santa Clara at Almaden",
         "ta clara at almaden"
        ],
        [
         "Adobe on Almaden",
         "adobe on almaden"
        ],
        [
         "San Pedro Square",
         "pedro square"
        ],
        [
         "Paseo de San Antonio",
         "paseo de  antonio"
        ],
        [
         "San Salvador at 1st",
         "salvador at 1st"
        ],
        [
         "Japantown",
         "japantown"
        ],
        [
         "San Jose City Hall",
         "jose city hall"
        ],
        [
         "MLK Library",
         "mlk library"
        ],
        [
         "SJSU 4th at San Carlos",
         "sjsu 4th at  carlos"
        ],
        [
         "St James Park",
         "st james park"
        ],
        [
         "Arena Green / SAP Center",
         "arena green / sap center"
        ],
        [
         "SJSU - San Salvador at 9th",
         "sjsu -  salvador at 9th"
        ],
        [
         "Franklin at Maple",
         "franklin at maple"
        ],
        [
         "Redwood City Caltrain Station",
         "redwood city caltrain station"
        ],
        [
         "San Mateo County Center",
         "mateo county center"
        ],
        [
         "Redwood City Public Library",
         "redwood city public library"
        ],
        [
         "Stanford in Redwood City",
         "stanford in redwood city"
        ],
        [
         "Redwood City Medical Center",
         "redwood city medical center"
        ],
        [
         "Mountain View City Hall",
         "mountain view city hall"
        ],
        [
         "Mountain View Caltrain Station",
         "mountain view caltrain station"
        ],
        [
         "San Antonio Caltrain Station",
         "antonio caltrain station"
        ],
        [
         "Evelyn Park and Ride",
         "evelyn park and ride"
        ],
        [
         "San Antonio Shopping Center",
         "antonio shopping center"
        ],
        [
         "Castro Street and El Camino Real",
         "castro street and el camino real"
        ],
        [
         "Rengstorff Avenue / California Street",
         "rengstorff avenue / california street"
        ],
        [
         "Palo Alto Caltrain Station",
         "palo alto caltrain station"
        ],
        [
         "University and Emerson",
         "university and emerson"
        ],
        [
         "California Ave Caltrain Station",
         "california ave caltrain station"
        ],
        [
         "Cowper at University",
         "cowper at university"
        ],
        [
         "Park at Olive",
         "park at olive"
        ],
        [
         "Clay at Battery",
         "clay at battery"
        ],
        [
         "Davis at Jackson",
         "davis at jackson"
        ],
        [
         "Commercial at Montgomery",
         "commercial at montgomery"
        ],
        [
         "Washington at Kearney",
         "washington at kearney"
        ],
        [
         "Post at Kearney",
         "post at kearney"
        ],
        [
         "Embarcadero at Vallejo",
         "embarcadero at vallejo"
        ],
        [
         "Spear at Folsom",
         "spear at folsom"
        ],
        [
         "Harry Bridges Plaza (Ferry Building)",
         "harry bridges plaza (ferry building)"
        ],
        [
         "Embarcadero at Folsom",
         "embarcadero at folsom"
        ],
        [
         "Powell Street BART",
         "powell street bart"
        ],
        [
         "Embarcadero at Bryant",
         "embarcadero at bryant"
        ],
        [
         "Temporary Transbay Terminal (Howard at Beale)",
         "temporary transbay terminal (howard at beale)"
        ],
        [
         "Beale at Market",
         "beale at market"
        ],
        [
         "5th at Howard",
         "5th at howard"
        ],
        [
         "San Francisco City Hall",
         "francisco city hall"
        ],
        [
         "Golden Gate at Polk",
         "golden gate at polk"
        ],
        [
         "Embarcadero at Sansome",
         "embarcadero at some"
        ],
        [
         "2nd at Townsend",
         "2nd at townsend"
        ],
        [
         "2nd at Folsom",
         "2nd at folsom"
        ],
        [
         "Howard at 2nd",
         "howard at 2nd"
        ],
        [
         "2nd at South Park",
         "2nd at south park"
        ],
        [
         "Townsend at 7th",
         "townsend at 7th"
        ],
        [
         "South Van Ness at Market",
         "south van ness at market"
        ],
        [
         "Market at 10th",
         "market at 10th"
        ],
        [
         "Yerba Buena Center of the Arts (3rd @ Howard)",
         "yerba buena center of the arts (3rd @ howard)"
        ],
        [
         "San Francisco Caltrain 2 (330 Townsend)",
         "francisco caltrain 2 (330 townsend)"
        ],
        [
         "San Francisco Caltrain (Townsend at 4th)",
         "francisco caltrain (townsend at 4th)"
        ],
        [
         "Powell at Post (Union Square)",
         "powell at post (union square)"
        ],
        [
         "Civic Center BART (7th at Market)",
         "civic center bart (7th at market)"
        ],
        [
         "Grant Avenue at Columbus Avenue",
         "grant avenue at columbus avenue"
        ],
        [
         "Steuart at Market",
         "steuart at market"
        ],
        [
         "Mechanics Plaza (Market at Battery)",
         "mechanics plaza (market at battery)"
        ],
        [
         "Market at 4th",
         "market at 4th"
        ],
        [
         "Market at Sansome",
         "market at some"
        ],
        [
         "Santa Clara County Civic Center",
         "ta clara county civic center"
        ],
        [
         "Broadway St at Battery St",
         "broadway st at battery st"
        ],
        [
         "Mezes Park",
         "mezes park"
        ],
        [
         "Ryland Park",
         "ryland park"
        ]
       ],
       "datasetInfos": [],
       "dbfsResultPath": null,
       "isJsonSchema": true,
       "metadata": {},
       "overflow": false,
       "plotOptions": {
        "customPlotOptions": {},
        "displayType": "table",
        "pivotAggregation": null,
        "pivotColumns": null,
        "xColumns": null,
        "yColumns": null
       },
       "removedWidgets": [],
       "schema": [
        {
         "metadata": "{}",
         "name": "name",
         "type": "\"string\""
        },
        {
         "metadata": "{}",
         "name": "normalized_name",
         "type": "\"string\""
        }
       ],
       "type": "table"
      }
     },
     "output_type": "display_data"
    }
   ],
   "source": [
    "\n",
    "@pandas_udf(StringType())\n",
    "def normalize_station_name(name: pd.Series) -> pd.Series:\n",
    "    return name.str.lower().str.replace(\"san\", \"\", regex=False).str.strip()\n",
    "\n",
    "df = df.withColumn(\"normalized_name\", normalize_station_name(\"name\"))\n",
    "\n",
    "\n",
    "display(df.select(\"name\", \"normalized_name\"))\n"
   ]
  }
 ],
 "metadata": {
  "application/vnd.databricks.v1+notebook": {
   "computePreferences": null,
   "dashboards": [],
   "environmentMetadata": {
    "base_environment": "",
    "environment_version": "1"
   },
   "inputWidgetPreferences": null,
   "language": "python",
   "notebookMetadata": {
    "pythonIndentUnit": 4
   },
   "notebookName": "Untitled Notebook 2025-04-09 19:53:26",
   "widgets": {}
  }
 },
 "nbformat": 4,
 "nbformat_minor": 0
}